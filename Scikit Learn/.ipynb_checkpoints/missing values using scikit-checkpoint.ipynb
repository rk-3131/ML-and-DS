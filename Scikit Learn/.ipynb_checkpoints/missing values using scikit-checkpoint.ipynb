{
 "cells": [
  {
   "cell_type": "code",
   "execution_count": 1,
   "id": "dc0e414d",
   "metadata": {},
   "outputs": [],
   "source": [
    "import pandas as pd\n",
    "import numpy as np"
   ]
  },
  {
   "cell_type": "code",
   "execution_count": 2,
   "id": "7e1edb54",
   "metadata": {},
   "outputs": [],
   "source": [
    "cars_sales_missing = pd.read_csv('Data/car-sales-extended-missing-data.csv')"
   ]
  },
  {
   "cell_type": "code",
   "execution_count": 3,
   "id": "4994c69b",
   "metadata": {},
   "outputs": [
    {
     "data": {
      "text/plain": [
       "Make             49\n",
       "Colour           50\n",
       "Odometer (KM)    50\n",
       "Doors            50\n",
       "Price            50\n",
       "dtype: int64"
      ]
     },
     "execution_count": 3,
     "metadata": {},
     "output_type": "execute_result"
    }
   ],
   "source": [
    "cars_sales_missing.isna().sum()"
   ]
  },
  {
   "cell_type": "code",
   "execution_count": 4,
   "id": "ab8fd5a0",
   "metadata": {},
   "outputs": [],
   "source": [
    "cars_sales_missing.dropna(subset=[\"Price\"], inplace=True)\n",
    "# This dropna has dropped all the missing values from the cars_sales dataset in the column Price"
   ]
  },
  {
   "cell_type": "code",
   "execution_count": 5,
   "id": "1c004b6d",
   "metadata": {},
   "outputs": [
    {
     "data": {
      "text/plain": [
       "Make             47\n",
       "Colour           46\n",
       "Odometer (KM)    48\n",
       "Doors            47\n",
       "Price             0\n",
       "dtype: int64"
      ]
     },
     "execution_count": 5,
     "metadata": {},
     "output_type": "execute_result"
    }
   ],
   "source": [
    "cars_sales_missing.isna().sum()"
   ]
  },
  {
   "cell_type": "code",
   "execution_count": 6,
   "id": "ecffdf27",
   "metadata": {},
   "outputs": [],
   "source": [
    "X = cars_sales_missing.drop(\"Price\", axis=1)\n",
    "y = cars_sales_missing.Price"
   ]
  },
  {
   "cell_type": "code",
   "execution_count": 9,
   "id": "333a229b",
   "metadata": {},
   "outputs": [],
   "source": [
    "# from sklearn.impute import SimpleImputer\n",
    "# # filling missing values in the database is called as imputer\n",
    "# # Hence sklearn has a method which is called as imputation\n",
    "# from sklearn.compose import ColumnTransformer"
   ]
  },
  {
   "cell_type": "code",
   "execution_count": 10,
   "id": "ef61f072",
   "metadata": {},
   "outputs": [],
   "source": [
    "# fill categorical values with missing and numerical values with mean# we have three kinds of categorical features here \n",
    "# Doors will have 4 values then there are two categorical variable and one numerical variable"
   ]
  },
  {
   "cell_type": "code",
   "execution_count": 11,
   "id": "490a0a7d",
   "metadata": {},
   "outputs": [],
   "source": [
    "from sklearn.impute import SimpleImputer\n",
    "from sklearn.compose import ColumnTransformer\n",
    "# These are simple import made which are common and can be remembered\n",
    "\n",
    "cat_features = [\"Make\", \"Colour\"]\n",
    "door_features = [\"Doors\"]\n",
    "num_features = [\"Odometer (KM)\"]\n",
    "# These are the differnt list of features which we will use for different imputer\n",
    "\n",
    "cat_imputer = SimpleImputer(strategy=\"constant\", fill_value=\"Missing\")\n",
    "door_imputer = SimpleImputer(strategy=\"constant\", fill_value=4)\n",
    "# These two imputer are trained to have constant values and those values are missing for text data\n",
    "# and the value is 4 for the categorical data\n",
    "\n",
    "num_imputer = SimpleImputer(strategy=\"mean\")\n",
    "# This is the imputer which is used to have the mean value that will be added\n",
    "# This is why the fill values parameter is not added in the list\n",
    "\n",
    "main_imputer = ColumnTransformer(\n",
    "    [\n",
    "        (\"cat_imputer\", cat_imputer, cat_features), \n",
    "        (\"door_imputer\", door_imputer, door_features),\n",
    "        (\"num_imputer\", num_imputer, num_features)\n",
    "    ]\n",
    ")\n",
    "# Here the columntransformer is made ready as it is done usually\n",
    "\n",
    "transformed_X = main_imputer.fit_transform(X)"
   ]
  },
  {
   "cell_type": "code",
   "execution_count": 12,
   "id": "f1336bf4",
   "metadata": {},
   "outputs": [
    {
     "data": {
      "text/plain": [
       "array([['Honda', 'White', 4.0, 35431.0],\n",
       "       ['BMW', 'Blue', 5.0, 192714.0],\n",
       "       ['Honda', 'White', 4.0, 84714.0],\n",
       "       ...,\n",
       "       ['Nissan', 'Blue', 4.0, 66604.0],\n",
       "       ['Honda', 'White', 4.0, 215883.0],\n",
       "       ['Toyota', 'Blue', 4.0, 248360.0]], dtype=object)"
      ]
     },
     "execution_count": 12,
     "metadata": {},
     "output_type": "execute_result"
    }
   ],
   "source": [
    "transformed_X"
   ]
  },
  {
   "cell_type": "code",
   "execution_count": null,
   "id": "c580b29b",
   "metadata": {},
   "outputs": [],
   "source": []
  }
 ],
 "metadata": {
  "kernelspec": {
   "display_name": "Python 3 (ipykernel)",
   "language": "python",
   "name": "python3"
  },
  "language_info": {
   "codemirror_mode": {
    "name": "ipython",
    "version": 3
   },
   "file_extension": ".py",
   "mimetype": "text/x-python",
   "name": "python",
   "nbconvert_exporter": "python",
   "pygments_lexer": "ipython3",
   "version": "3.10.2"
  }
 },
 "nbformat": 4,
 "nbformat_minor": 5
}
