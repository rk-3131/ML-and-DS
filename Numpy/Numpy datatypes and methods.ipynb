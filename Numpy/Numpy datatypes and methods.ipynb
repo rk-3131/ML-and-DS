{
 "cells": [
  {
   "cell_type": "code",
   "execution_count": 1,
   "id": "46158dcd",
   "metadata": {},
   "outputs": [],
   "source": [
    "import numpy as np"
   ]
  },
  {
   "cell_type": "markdown",
   "id": "037f69a2",
   "metadata": {},
   "source": [
    "## Datatypes and attributes"
   ]
  },
  {
   "cell_type": "code",
   "execution_count": 2,
   "id": "0e5e78c9",
   "metadata": {},
   "outputs": [],
   "source": [
    "# numpy can have any dimensional array i.e ndarray"
   ]
  },
  {
   "cell_type": "code",
   "execution_count": 3,
   "id": "7b848eb5",
   "metadata": {},
   "outputs": [],
   "source": [
    "a1 = np.array([1,2,3,4,5,6])"
   ]
  },
  {
   "cell_type": "code",
   "execution_count": 4,
   "id": "efa08eca",
   "metadata": {},
   "outputs": [
    {
     "data": {
      "text/plain": [
       "array([1, 2, 3, 4, 5, 6])"
      ]
     },
     "execution_count": 4,
     "metadata": {},
     "output_type": "execute_result"
    }
   ],
   "source": [
    "a1"
   ]
  },
  {
   "cell_type": "code",
   "execution_count": 5,
   "id": "f7e00af5",
   "metadata": {},
   "outputs": [
    {
     "data": {
      "text/plain": [
       "numpy.ndarray"
      ]
     },
     "execution_count": 5,
     "metadata": {},
     "output_type": "execute_result"
    }
   ],
   "source": [
    "type(a1)"
   ]
  },
  {
   "cell_type": "code",
   "execution_count": 6,
   "id": "249d5381",
   "metadata": {},
   "outputs": [],
   "source": [
    "a2 = np.array([[1,2,3],\n",
    "             [4,5,6],\n",
    "              [4.5,6.2,9.5]])"
   ]
  },
  {
   "cell_type": "code",
   "execution_count": 7,
   "id": "5963ecdb",
   "metadata": {},
   "outputs": [
    {
     "data": {
      "text/plain": [
       "array([[1. , 2. , 3. ],\n",
       "       [4. , 5. , 6. ],\n",
       "       [4.5, 6.2, 9.5]])"
      ]
     },
     "execution_count": 7,
     "metadata": {},
     "output_type": "execute_result"
    }
   ],
   "source": [
    "a2"
   ]
  },
  {
   "cell_type": "code",
   "execution_count": 8,
   "id": "3b22ebeb",
   "metadata": {},
   "outputs": [],
   "source": [
    "# we can even type and create more number dimensional array also\n",
    "a3 = np.array([[[1,2,3],\n",
    "               [4,5,6],\n",
    "              [7,8,9]],\n",
    "              [[10,11,12],\n",
    "               [13,14,15],\n",
    "              [16,17,18]]])"
   ]
  },
  {
   "cell_type": "code",
   "execution_count": 9,
   "id": "f51c7b4e",
   "metadata": {},
   "outputs": [
    {
     "data": {
      "text/plain": [
       "array([[[ 1,  2,  3],\n",
       "        [ 4,  5,  6],\n",
       "        [ 7,  8,  9]],\n",
       "\n",
       "       [[10, 11, 12],\n",
       "        [13, 14, 15],\n",
       "        [16, 17, 18]]])"
      ]
     },
     "execution_count": 9,
     "metadata": {},
     "output_type": "execute_result"
    }
   ],
   "source": [
    "a3"
   ]
  },
  {
   "cell_type": "code",
   "execution_count": 10,
   "id": "74dd8fc8",
   "metadata": {},
   "outputs": [],
   "source": [
    "# we can get the shape of the array based on the data that we will be getting"
   ]
  },
  {
   "cell_type": "code",
   "execution_count": 11,
   "id": "f0ec50dc",
   "metadata": {},
   "outputs": [
    {
     "data": {
      "text/plain": [
       "(6,)"
      ]
     },
     "execution_count": 11,
     "metadata": {},
     "output_type": "execute_result"
    }
   ],
   "source": [
    "a1.shape\n",
    "# here it is 6 because there are 6 numbers in the array"
   ]
  },
  {
   "cell_type": "code",
   "execution_count": 12,
   "id": "33f3064a",
   "metadata": {},
   "outputs": [
    {
     "data": {
      "text/plain": [
       "(3, 3)"
      ]
     },
     "execution_count": 12,
     "metadata": {},
     "output_type": "execute_result"
    }
   ],
   "source": [
    "a2.shape"
   ]
  },
  {
   "cell_type": "code",
   "execution_count": 13,
   "id": "35fd69af",
   "metadata": {},
   "outputs": [
    {
     "data": {
      "text/plain": [
       "(2, 3, 3)"
      ]
     },
     "execution_count": 13,
     "metadata": {},
     "output_type": "execute_result"
    }
   ],
   "source": [
    "a3.shape"
   ]
  },
  {
   "cell_type": "code",
   "execution_count": 14,
   "id": "4d1d3c91",
   "metadata": {},
   "outputs": [
    {
     "data": {
      "text/plain": [
       "(1, 2, 3)"
      ]
     },
     "execution_count": 14,
     "metadata": {},
     "output_type": "execute_result"
    }
   ],
   "source": [
    "# we can even get and see how many dimensional the array is using ndim\n",
    "a1.ndim, a2.ndim, a3.ndim"
   ]
  },
  {
   "cell_type": "code",
   "execution_count": 15,
   "id": "f261eb71",
   "metadata": {},
   "outputs": [
    {
     "data": {
      "text/plain": [
       "(dtype('int32'), dtype('float64'), dtype('int32'))"
      ]
     },
     "execution_count": 15,
     "metadata": {},
     "output_type": "execute_result"
    }
   ],
   "source": [
    "# we can even get the datatype of all the elements into the arrays\n",
    "a1.dtype, a2.dtype, a3.dtype"
   ]
  },
  {
   "cell_type": "code",
   "execution_count": 16,
   "id": "f2d029fe",
   "metadata": {},
   "outputs": [
    {
     "data": {
      "text/plain": [
       "(6, 9, 18)"
      ]
     },
     "execution_count": 16,
     "metadata": {},
     "output_type": "execute_result"
    }
   ],
   "source": [
    "# we can also get the number of elements in the array\n",
    "a1.size, a2.size, a3.size"
   ]
  },
  {
   "cell_type": "code",
   "execution_count": 17,
   "id": "2fcd0cfc",
   "metadata": {},
   "outputs": [
    {
     "data": {
      "text/plain": [
       "(numpy.ndarray, numpy.ndarray, numpy.ndarray)"
      ]
     },
     "execution_count": 17,
     "metadata": {},
     "output_type": "execute_result"
    }
   ],
   "source": [
    "# we can get what type of datatype they are here all of them are ndarray\n",
    "type(a1), type(a2), type(a3)"
   ]
  },
  {
   "cell_type": "code",
   "execution_count": 18,
   "id": "0b2b9407",
   "metadata": {},
   "outputs": [],
   "source": [
    "# Create a DataFrame from the numpy array"
   ]
  },
  {
   "cell_type": "code",
   "execution_count": 19,
   "id": "751061bc",
   "metadata": {},
   "outputs": [],
   "source": [
    "import pandas as pd"
   ]
  },
  {
   "cell_type": "code",
   "execution_count": 20,
   "id": "a963bedf",
   "metadata": {},
   "outputs": [],
   "source": [
    "dataframe = pd.DataFrame(a1)"
   ]
  },
  {
   "cell_type": "code",
   "execution_count": 21,
   "id": "2f59203e",
   "metadata": {},
   "outputs": [
    {
     "data": {
      "text/html": [
       "<div>\n",
       "<style scoped>\n",
       "    .dataframe tbody tr th:only-of-type {\n",
       "        vertical-align: middle;\n",
       "    }\n",
       "\n",
       "    .dataframe tbody tr th {\n",
       "        vertical-align: top;\n",
       "    }\n",
       "\n",
       "    .dataframe thead th {\n",
       "        text-align: right;\n",
       "    }\n",
       "</style>\n",
       "<table border=\"1\" class=\"dataframe\">\n",
       "  <thead>\n",
       "    <tr style=\"text-align: right;\">\n",
       "      <th></th>\n",
       "      <th>0</th>\n",
       "    </tr>\n",
       "  </thead>\n",
       "  <tbody>\n",
       "    <tr>\n",
       "      <th>0</th>\n",
       "      <td>1</td>\n",
       "    </tr>\n",
       "    <tr>\n",
       "      <th>1</th>\n",
       "      <td>2</td>\n",
       "    </tr>\n",
       "    <tr>\n",
       "      <th>2</th>\n",
       "      <td>3</td>\n",
       "    </tr>\n",
       "    <tr>\n",
       "      <th>3</th>\n",
       "      <td>4</td>\n",
       "    </tr>\n",
       "    <tr>\n",
       "      <th>4</th>\n",
       "      <td>5</td>\n",
       "    </tr>\n",
       "    <tr>\n",
       "      <th>5</th>\n",
       "      <td>6</td>\n",
       "    </tr>\n",
       "  </tbody>\n",
       "</table>\n",
       "</div>"
      ],
      "text/plain": [
       "   0\n",
       "0  1\n",
       "1  2\n",
       "2  3\n",
       "3  4\n",
       "4  5\n",
       "5  6"
      ]
     },
     "execution_count": 21,
     "metadata": {},
     "output_type": "execute_result"
    }
   ],
   "source": [
    "dataframe"
   ]
  },
  {
   "cell_type": "code",
   "execution_count": 22,
   "id": "bce09804",
   "metadata": {},
   "outputs": [],
   "source": [
    "dataframe2 = pd.DataFrame(a2)"
   ]
  },
  {
   "cell_type": "code",
   "execution_count": 23,
   "id": "94c58a75",
   "metadata": {},
   "outputs": [
    {
     "data": {
      "text/html": [
       "<div>\n",
       "<style scoped>\n",
       "    .dataframe tbody tr th:only-of-type {\n",
       "        vertical-align: middle;\n",
       "    }\n",
       "\n",
       "    .dataframe tbody tr th {\n",
       "        vertical-align: top;\n",
       "    }\n",
       "\n",
       "    .dataframe thead th {\n",
       "        text-align: right;\n",
       "    }\n",
       "</style>\n",
       "<table border=\"1\" class=\"dataframe\">\n",
       "  <thead>\n",
       "    <tr style=\"text-align: right;\">\n",
       "      <th></th>\n",
       "      <th>0</th>\n",
       "      <th>1</th>\n",
       "      <th>2</th>\n",
       "    </tr>\n",
       "  </thead>\n",
       "  <tbody>\n",
       "    <tr>\n",
       "      <th>0</th>\n",
       "      <td>1.0</td>\n",
       "      <td>2.0</td>\n",
       "      <td>3.0</td>\n",
       "    </tr>\n",
       "    <tr>\n",
       "      <th>1</th>\n",
       "      <td>4.0</td>\n",
       "      <td>5.0</td>\n",
       "      <td>6.0</td>\n",
       "    </tr>\n",
       "    <tr>\n",
       "      <th>2</th>\n",
       "      <td>4.5</td>\n",
       "      <td>6.2</td>\n",
       "      <td>9.5</td>\n",
       "    </tr>\n",
       "  </tbody>\n",
       "</table>\n",
       "</div>"
      ],
      "text/plain": [
       "     0    1    2\n",
       "0  1.0  2.0  3.0\n",
       "1  4.0  5.0  6.0\n",
       "2  4.5  6.2  9.5"
      ]
     },
     "execution_count": 23,
     "metadata": {},
     "output_type": "execute_result"
    }
   ],
   "source": [
    "dataframe2"
   ]
  },
  {
   "cell_type": "code",
   "execution_count": 24,
   "id": "623d3a4a",
   "metadata": {},
   "outputs": [],
   "source": [
    "# dataframe3 = pd.DataFrame(a3)\n",
    "# It will give us the error as pandas dataframe must have at most 2d array as input"
   ]
  },
  {
   "cell_type": "markdown",
   "id": "91d4669c",
   "metadata": {},
   "source": [
    "## Creating Numpy array"
   ]
  },
  {
   "cell_type": "code",
   "execution_count": 25,
   "id": "7824135c",
   "metadata": {},
   "outputs": [],
   "source": [
    "sample_array = np.array([1,2,3,4,5,6,7,8,9])"
   ]
  },
  {
   "cell_type": "code",
   "execution_count": 26,
   "id": "8f828302",
   "metadata": {},
   "outputs": [
    {
     "data": {
      "text/plain": [
       "array([1, 2, 3, 4, 5, 6, 7, 8, 9])"
      ]
     },
     "execution_count": 26,
     "metadata": {},
     "output_type": "execute_result"
    }
   ],
   "source": [
    "sample_array"
   ]
  },
  {
   "cell_type": "code",
   "execution_count": 27,
   "id": "f392c47a",
   "metadata": {},
   "outputs": [],
   "source": [
    "# What if we want to create the array which will have all the values defined for us"
   ]
  },
  {
   "cell_type": "code",
   "execution_count": 28,
   "id": "74ef094d",
   "metadata": {},
   "outputs": [],
   "source": [
    "ones_array = np.ones((2,3))\n",
    "# Signature: np.ones(shape, dtype=None, order='C', *, like=None)\n",
    "# Docstring:\n",
    "# Return a new array of given shape and type, filled with ones."
   ]
  },
  {
   "cell_type": "code",
   "execution_count": 29,
   "id": "014030f3",
   "metadata": {},
   "outputs": [
    {
     "data": {
      "text/plain": [
       "array([[1., 1., 1.],\n",
       "       [1., 1., 1.]])"
      ]
     },
     "execution_count": 29,
     "metadata": {},
     "output_type": "execute_result"
    }
   ],
   "source": [
    "ones_array"
   ]
  },
  {
   "cell_type": "code",
   "execution_count": 30,
   "id": "3ba09a5e",
   "metadata": {},
   "outputs": [
    {
     "data": {
      "text/plain": [
       "dtype('float64')"
      ]
     },
     "execution_count": 30,
     "metadata": {},
     "output_type": "execute_result"
    }
   ],
   "source": [
    "ones_array.dtype"
   ]
  },
  {
   "cell_type": "code",
   "execution_count": 31,
   "id": "a3d89967",
   "metadata": {},
   "outputs": [
    {
     "data": {
      "text/plain": [
       "numpy.ndarray"
      ]
     },
     "execution_count": 31,
     "metadata": {},
     "output_type": "execute_result"
    }
   ],
   "source": [
    "type(ones_array)"
   ]
  },
  {
   "cell_type": "code",
   "execution_count": 32,
   "id": "fe3b707d",
   "metadata": {},
   "outputs": [],
   "source": [
    "zeros_array = np.zeros((2,3))"
   ]
  },
  {
   "cell_type": "code",
   "execution_count": 33,
   "id": "bf41e6d3",
   "metadata": {},
   "outputs": [
    {
     "data": {
      "text/plain": [
       "array([[0., 0., 0.],\n",
       "       [0., 0., 0.]])"
      ]
     },
     "execution_count": 33,
     "metadata": {},
     "output_type": "execute_result"
    }
   ],
   "source": [
    "zeros_array"
   ]
  },
  {
   "cell_type": "code",
   "execution_count": 34,
   "id": "7d00b557",
   "metadata": {},
   "outputs": [],
   "source": [
    "# np.arange(start, stop, step)\n",
    "# Here the start is inclusive, stop is exclusive and step is how many number the value should inceament as they are fiiled in the proccess\n",
    "range_array = np.arange(1, 11, 1)"
   ]
  },
  {
   "cell_type": "code",
   "execution_count": 35,
   "id": "ee41ea0c",
   "metadata": {},
   "outputs": [
    {
     "data": {
      "text/plain": [
       "array([ 1,  2,  3,  4,  5,  6,  7,  8,  9, 10])"
      ]
     },
     "execution_count": 35,
     "metadata": {},
     "output_type": "execute_result"
    }
   ],
   "source": [
    "range_array"
   ]
  },
  {
   "cell_type": "code",
   "execution_count": 36,
   "id": "f3838949",
   "metadata": {},
   "outputs": [],
   "source": [
    "# What if we want to have the numbers in the array which will be generated by the random numbers in the array\n",
    "# Here the random.randint will take three arguements low which will be the number from where the generation of random numbers will start to get\n",
    "# Then there will be a number high which will be used for the purpose of getting the upper bound of the number where we wish to get the numbers to end\n",
    "# And then there is the parameter size which will be used for the purpose of having the numbers such that these will be used to determine the size of the array\n",
    "random_array = np.random.randint(0, 15, size = (3,3))"
   ]
  },
  {
   "cell_type": "code",
   "execution_count": 37,
   "id": "d574b347",
   "metadata": {},
   "outputs": [
    {
     "data": {
      "text/plain": [
       "array([[ 0,  3, 12],\n",
       "       [ 8,  9,  2],\n",
       "       [10, 13,  3]])"
      ]
     },
     "execution_count": 37,
     "metadata": {},
     "output_type": "execute_result"
    }
   ],
   "source": [
    "random_array"
   ]
  },
  {
   "cell_type": "code",
   "execution_count": 38,
   "id": "10b58988",
   "metadata": {},
   "outputs": [],
   "source": [
    "random_list = np.random.randint(0,21, size = 15)\n",
    "# here we have given the size in the form of numbers hence it will create the list which will be one dimensional"
   ]
  },
  {
   "cell_type": "code",
   "execution_count": 39,
   "id": "e264a4bb",
   "metadata": {},
   "outputs": [
    {
     "data": {
      "text/plain": [
       "array([15,  3,  2,  4,  2,  2, 17,  3,  0, 20,  3,  0, 17, 12,  9])"
      ]
     },
     "execution_count": 39,
     "metadata": {},
     "output_type": "execute_result"
    }
   ],
   "source": [
    "random_list"
   ]
  },
  {
   "cell_type": "code",
   "execution_count": 40,
   "id": "2419cf7b",
   "metadata": {},
   "outputs": [],
   "source": [
    "# random.random will get the input as size and then create the numbers which will be in the interval 0 and 1\n",
    "random_array2 = np.random.random((5,3))"
   ]
  },
  {
   "cell_type": "code",
   "execution_count": 41,
   "id": "51d95c01",
   "metadata": {},
   "outputs": [
    {
     "data": {
      "text/plain": [
       "array([[0.71717802, 0.01883396, 0.32451371],\n",
       "       [0.87448874, 0.15480949, 0.70110012],\n",
       "       [0.84927168, 0.90119559, 0.92020199],\n",
       "       [0.48972628, 0.29501674, 0.92961077],\n",
       "       [0.30147094, 0.4499616 , 0.85151948]])"
      ]
     },
     "execution_count": 41,
     "metadata": {},
     "output_type": "execute_result"
    }
   ],
   "source": [
    "random_array2"
   ]
  },
  {
   "cell_type": "code",
   "execution_count": 42,
   "id": "ccedb911",
   "metadata": {},
   "outputs": [],
   "source": [
    "random_array3 = np.random.rand(5,3)\n",
    "# This is also used to get the random numbers in the numpy array"
   ]
  },
  {
   "cell_type": "code",
   "execution_count": 43,
   "id": "253e944a",
   "metadata": {},
   "outputs": [
    {
     "data": {
      "text/plain": [
       "array([[0.17732187, 0.53439662, 0.78703839],\n",
       "       [0.66050881, 0.87298849, 0.04166372],\n",
       "       [0.975074  , 0.88362164, 0.12665582],\n",
       "       [0.75563286, 0.09787222, 0.79814036],\n",
       "       [0.82613747, 0.48880635, 0.29388629]])"
      ]
     },
     "execution_count": 43,
     "metadata": {},
     "output_type": "execute_result"
    }
   ],
   "source": [
    "random_array3"
   ]
  },
  {
   "cell_type": "code",
   "execution_count": 44,
   "id": "8e374755",
   "metadata": {},
   "outputs": [],
   "source": [
    "# These numbers are generated by using the numpy seed"
   ]
  },
  {
   "cell_type": "markdown",
   "id": "d95e11bd",
   "metadata": {},
   "source": [
    "## Random Seed"
   ]
  },
  {
   "cell_type": "code",
   "execution_count": 45,
   "id": "ebf38dd3",
   "metadata": {},
   "outputs": [],
   "source": [
    "# The random numbers are not actually random but they are pseudo random numbers\n",
    "# They are generated using random seed"
   ]
  },
  {
   "cell_type": "code",
   "execution_count": 46,
   "id": "5e5c9a11",
   "metadata": {},
   "outputs": [],
   "source": [
    "random_array4 = np.random.randint(10, size=(5,3))"
   ]
  },
  {
   "cell_type": "code",
   "execution_count": 47,
   "id": "13d95458",
   "metadata": {},
   "outputs": [
    {
     "data": {
      "text/plain": [
       "array([[8, 1, 2],\n",
       "       [8, 5, 1],\n",
       "       [5, 2, 3],\n",
       "       [2, 5, 9],\n",
       "       [4, 3, 2]])"
      ]
     },
     "execution_count": 47,
     "metadata": {},
     "output_type": "execute_result"
    }
   ],
   "source": [
    "random_array4"
   ]
  },
  {
   "cell_type": "code",
   "execution_count": 48,
   "id": "7db4f417",
   "metadata": {},
   "outputs": [],
   "source": [
    "# here if we refresh the tab then we will be able to see that the array will have the differnt random numbers every time we make a refresh\n",
    "# But what if we want to share our code then will it be possible for other collegue of ours to get the exact random numbers so that it will be easy to reproduce the experiment that we have created"
   ]
  },
  {
   "cell_type": "code",
   "execution_count": 49,
   "id": "68aaef7b",
   "metadata": {},
   "outputs": [
    {
     "data": {
      "text/plain": [
       "array([[ 5,  6,  7],\n",
       "       [ 8,  9,  6],\n",
       "       [ 8, 13,  4]])"
      ]
     },
     "execution_count": 49,
     "metadata": {},
     "output_type": "execute_result"
    }
   ],
   "source": [
    "np.random.seed(78)\n",
    "random_array5 = np.random.randint(15, size = (3,3))\n",
    "random_array5\n",
    "# here we have created and enabled the random seed number 78 here\n",
    "# Hence it will generate the exact copy of the numbers every time\n",
    "# Hence it is called as the random numbers that are generated by the random function are"
   ]
  },
  {
   "cell_type": "code",
   "execution_count": 50,
   "id": "be15d487",
   "metadata": {},
   "outputs": [],
   "source": [
    "np.random.seed(101)\n",
    "random_array6 = np.random.random((3,3))"
   ]
  },
  {
   "cell_type": "code",
   "execution_count": 51,
   "id": "a30d3b5a",
   "metadata": {},
   "outputs": [
    {
     "data": {
      "text/plain": [
       "array([[0.51639863, 0.57066759, 0.02847423],\n",
       "       [0.17152166, 0.68527698, 0.83389686],\n",
       "       [0.30696622, 0.89361308, 0.72154386]])"
      ]
     },
     "execution_count": 51,
     "metadata": {},
     "output_type": "execute_result"
    }
   ],
   "source": [
    "random_array6"
   ]
  },
  {
   "cell_type": "code",
   "execution_count": 52,
   "id": "956373a7",
   "metadata": {},
   "outputs": [],
   "source": [
    "# Look above values also didn't change"
   ]
  },
  {
   "cell_type": "markdown",
   "id": "a2098ce1",
   "metadata": {},
   "source": [
    "## Viewing arrays and metrices"
   ]
  },
  {
   "cell_type": "code",
   "execution_count": 53,
   "id": "ce68f746",
   "metadata": {},
   "outputs": [],
   "source": [
    "# Now we have lot of array and hence we might need to get the unique values in the array"
   ]
  },
  {
   "cell_type": "code",
   "execution_count": 54,
   "id": "aa860587",
   "metadata": {},
   "outputs": [],
   "source": [
    "unique_in_5 = np.unique(random_array5)"
   ]
  },
  {
   "cell_type": "code",
   "execution_count": 55,
   "id": "45f3ca5d",
   "metadata": {},
   "outputs": [
    {
     "data": {
      "text/plain": [
       "array([ 4,  5,  6,  7,  8,  9, 13])"
      ]
     },
     "execution_count": 55,
     "metadata": {},
     "output_type": "execute_result"
    }
   ],
   "source": [
    "unique_in_5"
   ]
  },
  {
   "cell_type": "code",
   "execution_count": 56,
   "id": "ddfc995a",
   "metadata": {},
   "outputs": [],
   "source": [
    "# Hence we have get the unique values in the array\n",
    "# It can be used and applied to any dimensional array"
   ]
  },
  {
   "cell_type": "code",
   "execution_count": 57,
   "id": "ea90184e",
   "metadata": {},
   "outputs": [],
   "source": [
    "# To acces the elements of the array we can make use of the square bracket to get the elements at that index\n",
    "# Depending on the dimension of the array this will give us either single element or it can also give us the another array of one dimension less"
   ]
  },
  {
   "cell_type": "code",
   "execution_count": 58,
   "id": "80fb9dcd",
   "metadata": {},
   "outputs": [
    {
     "data": {
      "text/plain": [
       "1"
      ]
     },
     "execution_count": 58,
     "metadata": {},
     "output_type": "execute_result"
    }
   ],
   "source": [
    "a1[0]"
   ]
  },
  {
   "cell_type": "code",
   "execution_count": 59,
   "id": "9fbf00ae",
   "metadata": {},
   "outputs": [
    {
     "data": {
      "text/plain": [
       "array([1., 2., 3.])"
      ]
     },
     "execution_count": 59,
     "metadata": {},
     "output_type": "execute_result"
    }
   ],
   "source": [
    "a2[0]"
   ]
  },
  {
   "cell_type": "code",
   "execution_count": 60,
   "id": "2a0c5f17",
   "metadata": {},
   "outputs": [
    {
     "data": {
      "text/plain": [
       "array([[1, 2, 3],\n",
       "       [4, 5, 6],\n",
       "       [7, 8, 9]])"
      ]
     },
     "execution_count": 60,
     "metadata": {},
     "output_type": "execute_result"
    }
   ],
   "source": [
    "a3[0]"
   ]
  },
  {
   "cell_type": "code",
   "execution_count": 61,
   "id": "75da8709",
   "metadata": {},
   "outputs": [],
   "source": [
    "# Look what we got as first element of the array it was either single element or whole array also"
   ]
  },
  {
   "cell_type": "code",
   "execution_count": 62,
   "id": "84ec8658",
   "metadata": {},
   "outputs": [],
   "source": [
    "# We can make use of the slicing operator in the indexing function also"
   ]
  },
  {
   "cell_type": "code",
   "execution_count": 63,
   "id": "79e9bfd8",
   "metadata": {},
   "outputs": [
    {
     "data": {
      "text/plain": [
       "array([3, 4, 5])"
      ]
     },
     "execution_count": 63,
     "metadata": {},
     "output_type": "execute_result"
    }
   ],
   "source": [
    "a1[2:5]"
   ]
  },
  {
   "cell_type": "code",
   "execution_count": 64,
   "id": "50c54181",
   "metadata": {},
   "outputs": [
    {
     "data": {
      "text/plain": [
       "array([[[ 1,  2,  3],\n",
       "        [ 4,  5,  6],\n",
       "        [ 7,  8,  9]],\n",
       "\n",
       "       [[10, 11, 12],\n",
       "        [13, 14, 15],\n",
       "        [16, 17, 18]]])"
      ]
     },
     "execution_count": 64,
     "metadata": {},
     "output_type": "execute_result"
    }
   ],
   "source": [
    "a3"
   ]
  },
  {
   "cell_type": "code",
   "execution_count": 65,
   "id": "dfb1b03c",
   "metadata": {},
   "outputs": [
    {
     "data": {
      "text/plain": [
       "array([[[ 1,  2],\n",
       "        [ 4,  5]],\n",
       "\n",
       "       [[10, 11],\n",
       "        [13, 14]]])"
      ]
     },
     "execution_count": 65,
     "metadata": {},
     "output_type": "execute_result"
    }
   ],
   "source": [
    "a3[:2, :2, :2]"
   ]
  },
  {
   "cell_type": "markdown",
   "id": "c03b8b42",
   "metadata": {},
   "source": [
    "## Manipulating and comparing "
   ]
  },
  {
   "cell_type": "code",
   "execution_count": 66,
   "id": "117cc061",
   "metadata": {},
   "outputs": [],
   "source": [
    "# Arithmetic"
   ]
  },
  {
   "cell_type": "code",
   "execution_count": 67,
   "id": "ee088f7f",
   "metadata": {},
   "outputs": [
    {
     "data": {
      "text/plain": [
       "array([1, 2, 3, 4, 5, 6])"
      ]
     },
     "execution_count": 67,
     "metadata": {},
     "output_type": "execute_result"
    }
   ],
   "source": [
    "a1"
   ]
  },
  {
   "cell_type": "code",
   "execution_count": 70,
   "id": "057ed7b1",
   "metadata": {},
   "outputs": [],
   "source": [
    "ones = np.ones(6)"
   ]
  },
  {
   "cell_type": "code",
   "execution_count": 71,
   "id": "7e6adc03",
   "metadata": {},
   "outputs": [
    {
     "data": {
      "text/plain": [
       "array([1., 1., 1., 1., 1., 1.])"
      ]
     },
     "execution_count": 71,
     "metadata": {},
     "output_type": "execute_result"
    }
   ],
   "source": [
    "ones"
   ]
  },
  {
   "cell_type": "code",
   "execution_count": 72,
   "id": "c2f27e06",
   "metadata": {},
   "outputs": [],
   "source": [
    "sum_array = a1 + ones"
   ]
  },
  {
   "cell_type": "code",
   "execution_count": 73,
   "id": "8a27dea8",
   "metadata": {},
   "outputs": [
    {
     "data": {
      "text/plain": [
       "array([2., 3., 4., 5., 6., 7.])"
      ]
     },
     "execution_count": 73,
     "metadata": {},
     "output_type": "execute_result"
    }
   ],
   "source": [
    "sum_array"
   ]
  },
  {
   "cell_type": "code",
   "execution_count": 74,
   "id": "266f9592",
   "metadata": {},
   "outputs": [],
   "source": [
    "# If length of both the array is same then we can perform the addition of the array\n",
    "# Different elements at the same position will be added "
   ]
  },
  {
   "cell_type": "code",
   "execution_count": 75,
   "id": "7efc6d99",
   "metadata": {},
   "outputs": [],
   "source": [
    "# simillarly we can perform other operations also"
   ]
  },
  {
   "cell_type": "code",
   "execution_count": 76,
   "id": "77b2afc9",
   "metadata": {},
   "outputs": [
    {
     "data": {
      "text/plain": [
       "array([0., 1., 2., 3., 4., 5.])"
      ]
     },
     "execution_count": 76,
     "metadata": {},
     "output_type": "execute_result"
    }
   ],
   "source": [
    "a1 - ones"
   ]
  },
  {
   "cell_type": "code",
   "execution_count": 77,
   "id": "43b4d55b",
   "metadata": {},
   "outputs": [
    {
     "data": {
      "text/plain": [
       "array([1., 2., 3., 4., 5., 6.])"
      ]
     },
     "execution_count": 77,
     "metadata": {},
     "output_type": "execute_result"
    }
   ],
   "source": [
    "a1 * ones"
   ]
  },
  {
   "cell_type": "code",
   "execution_count": 78,
   "id": "b0aca762",
   "metadata": {},
   "outputs": [
    {
     "data": {
      "text/plain": [
       "array([[1., 1., 1.],\n",
       "       [1., 1., 1.]])"
      ]
     },
     "execution_count": 78,
     "metadata": {},
     "output_type": "execute_result"
    }
   ],
   "source": [
    "ones_array"
   ]
  },
  {
   "cell_type": "code",
   "execution_count": 82,
   "id": "f8357e50",
   "metadata": {},
   "outputs": [],
   "source": [
    "a1 = np.arange(1, 4, 1)"
   ]
  },
  {
   "cell_type": "code",
   "execution_count": 83,
   "id": "7007f724",
   "metadata": {},
   "outputs": [
    {
     "data": {
      "text/plain": [
       "array([1, 2, 3])"
      ]
     },
     "execution_count": 83,
     "metadata": {},
     "output_type": "execute_result"
    }
   ],
   "source": [
    "a1"
   ]
  },
  {
   "cell_type": "code",
   "execution_count": 85,
   "id": "9159efe1",
   "metadata": {},
   "outputs": [
    {
     "data": {
      "text/plain": [
       "array([[1., 2., 3.],\n",
       "       [1., 2., 3.]])"
      ]
     },
     "execution_count": 85,
     "metadata": {},
     "output_type": "execute_result"
    }
   ],
   "source": [
    "a1 * ones_array\n",
    "# Here even though both them have different dimensions, they are multiplied at each of the row"
   ]
  },
  {
   "cell_type": "code",
   "execution_count": 86,
   "id": "4fa04620",
   "metadata": {},
   "outputs": [],
   "source": [
    "a2 = np.array([[1,2,3.3],\n",
    "              [4,5,6.5]])"
   ]
  },
  {
   "cell_type": "code",
   "execution_count": 87,
   "id": "78ec31e6",
   "metadata": {},
   "outputs": [
    {
     "data": {
      "text/plain": [
       "array([[[ 1,  2,  3],\n",
       "        [ 4,  5,  6],\n",
       "        [ 7,  8,  9]],\n",
       "\n",
       "       [[10, 11, 12],\n",
       "        [13, 14, 15],\n",
       "        [16, 17, 18]]])"
      ]
     },
     "execution_count": 87,
     "metadata": {},
     "output_type": "execute_result"
    }
   ],
   "source": [
    "a3"
   ]
  },
  {
   "cell_type": "code",
   "execution_count": 90,
   "id": "02bcf8f1",
   "metadata": {},
   "outputs": [],
   "source": [
    "# a2 * a3\n",
    "# https://numpy.org/doc/stable/user/basics.broadcasting.html"
   ]
  },
  {
   "cell_type": "code",
   "execution_count": 91,
   "id": "a1f2205d",
   "metadata": {},
   "outputs": [
    {
     "data": {
      "text/plain": [
       "((2, 3), (2, 3, 3))"
      ]
     },
     "execution_count": 91,
     "metadata": {},
     "output_type": "execute_result"
    }
   ],
   "source": [
    "a2.shape, a3.shape"
   ]
  },
  {
   "cell_type": "code",
   "execution_count": 97,
   "id": "b6a0ce73",
   "metadata": {},
   "outputs": [],
   "source": [
    "a2 = np.reshape(a2, a2.shape + (1,))"
   ]
  },
  {
   "cell_type": "code",
   "execution_count": 98,
   "id": "ce52cbfd",
   "metadata": {},
   "outputs": [
    {
     "data": {
      "text/plain": [
       "array([[[1. ],\n",
       "        [2. ],\n",
       "        [3.3]],\n",
       "\n",
       "       [[4. ],\n",
       "        [5. ],\n",
       "        [6.5]]])"
      ]
     },
     "execution_count": 98,
     "metadata": {},
     "output_type": "execute_result"
    }
   ],
   "source": [
    "a2"
   ]
  },
  {
   "cell_type": "code",
   "execution_count": 99,
   "id": "aa7b0f9e",
   "metadata": {},
   "outputs": [
    {
     "data": {
      "text/plain": [
       "(2, 3, 1)"
      ]
     },
     "execution_count": 99,
     "metadata": {},
     "output_type": "execute_result"
    }
   ],
   "source": [
    "a2.shape"
   ]
  },
  {
   "cell_type": "code",
   "execution_count": 101,
   "id": "9b2f68bc",
   "metadata": {},
   "outputs": [
    {
     "data": {
      "text/plain": [
       "(array([[[1. ],\n",
       "         [2. ],\n",
       "         [3.3]],\n",
       " \n",
       "        [[4. ],\n",
       "         [5. ],\n",
       "         [6.5]]]),\n",
       " array([[[ 1,  2,  3],\n",
       "         [ 4,  5,  6],\n",
       "         [ 7,  8,  9]],\n",
       " \n",
       "        [[10, 11, 12],\n",
       "         [13, 14, 15],\n",
       "         [16, 17, 18]]]))"
      ]
     },
     "execution_count": 101,
     "metadata": {},
     "output_type": "execute_result"
    }
   ],
   "source": [
    "a2 , a3"
   ]
  },
  {
   "cell_type": "code",
   "execution_count": 102,
   "id": "3266c4b2",
   "metadata": {},
   "outputs": [
    {
     "data": {
      "text/plain": [
       "array([[[  1. ,   2. ,   3. ],\n",
       "        [  8. ,  10. ,  12. ],\n",
       "        [ 23.1,  26.4,  29.7]],\n",
       "\n",
       "       [[ 40. ,  44. ,  48. ],\n",
       "        [ 65. ,  70. ,  75. ],\n",
       "        [104. , 110.5, 117. ]]])"
      ]
     },
     "execution_count": 102,
     "metadata": {},
     "output_type": "execute_result"
    }
   ],
   "source": [
    "a2 * a3"
   ]
  },
  {
   "cell_type": "code",
   "execution_count": 103,
   "id": "853ccc5c",
   "metadata": {},
   "outputs": [],
   "source": [
    "# Here we have reshaped the array a3 from the 2D to 3D"
   ]
  },
  {
   "cell_type": "code",
   "execution_count": 106,
   "id": "6e645219",
   "metadata": {},
   "outputs": [
    {
     "data": {
      "text/plain": [
       "array([1., 2., 3.])"
      ]
     },
     "execution_count": 106,
     "metadata": {},
     "output_type": "execute_result"
    }
   ],
   "source": [
    "a1 / ones[0:3]\n",
    "# As shape was getting out of bound of each other I took slice of it and then made it divide"
   ]
  },
  {
   "cell_type": "code",
   "execution_count": 107,
   "id": "2955b0d2",
   "metadata": {},
   "outputs": [
    {
     "data": {
      "text/plain": [
       "array([1., 2., 3.])"
      ]
     },
     "execution_count": 107,
     "metadata": {},
     "output_type": "execute_result"
    }
   ],
   "source": [
    "a1 // ones[0:3]"
   ]
  },
  {
   "cell_type": "code",
   "execution_count": 108,
   "id": "0ad664c3",
   "metadata": {},
   "outputs": [
    {
     "data": {
      "text/plain": [
       "array([[[1.        , 0.5       , 0.33333333],\n",
       "        [0.5       , 0.4       , 0.33333333],\n",
       "        [0.47142857, 0.4125    , 0.36666667]],\n",
       "\n",
       "       [[0.4       , 0.36363636, 0.33333333],\n",
       "        [0.38461538, 0.35714286, 0.33333333],\n",
       "        [0.40625   , 0.38235294, 0.36111111]]])"
      ]
     },
     "execution_count": 108,
     "metadata": {},
     "output_type": "execute_result"
    }
   ],
   "source": [
    "a2 / a3"
   ]
  },
  {
   "cell_type": "code",
   "execution_count": 109,
   "id": "c0885309",
   "metadata": {},
   "outputs": [
    {
     "data": {
      "text/plain": [
       "array([[[1., 0., 0.],\n",
       "        [0., 0., 0.],\n",
       "        [0., 0., 0.]],\n",
       "\n",
       "       [[0., 0., 0.],\n",
       "        [0., 0., 0.],\n",
       "        [0., 0., 0.]]])"
      ]
     },
     "execution_count": 109,
     "metadata": {},
     "output_type": "execute_result"
    }
   ],
   "source": [
    "a2 // a3"
   ]
  },
  {
   "cell_type": "code",
   "execution_count": 110,
   "id": "80038df8",
   "metadata": {},
   "outputs": [
    {
     "data": {
      "text/plain": [
       "array([[[ 1.  ],\n",
       "        [ 4.  ],\n",
       "        [10.89]],\n",
       "\n",
       "       [[16.  ],\n",
       "        [25.  ],\n",
       "        [42.25]]])"
      ]
     },
     "execution_count": 110,
     "metadata": {},
     "output_type": "execute_result"
    }
   ],
   "source": [
    "a2 ** 2"
   ]
  },
  {
   "cell_type": "code",
   "execution_count": 111,
   "id": "706b1ef9",
   "metadata": {},
   "outputs": [
    {
     "data": {
      "text/plain": [
       "array([[[ 1.  ],\n",
       "        [ 4.  ],\n",
       "        [10.89]],\n",
       "\n",
       "       [[16.  ],\n",
       "        [25.  ],\n",
       "        [42.25]]])"
      ]
     },
     "execution_count": 111,
     "metadata": {},
     "output_type": "execute_result"
    }
   ],
   "source": [
    "np.square(a2)"
   ]
  },
  {
   "cell_type": "code",
   "execution_count": 112,
   "id": "d1e505be",
   "metadata": {},
   "outputs": [
    {
     "data": {
      "text/plain": [
       "array([[[1.        ],\n",
       "        [1.41421356],\n",
       "        [1.81659021]],\n",
       "\n",
       "       [[2.        ],\n",
       "        [2.23606798],\n",
       "        [2.54950976]]])"
      ]
     },
     "execution_count": 112,
     "metadata": {},
     "output_type": "execute_result"
    }
   ],
   "source": [
    "np.sqrt(a2)"
   ]
  },
  {
   "cell_type": "code",
   "execution_count": 114,
   "id": "07039fb9",
   "metadata": {},
   "outputs": [
    {
     "data": {
      "text/plain": [
       "array([2., 3., 4.])"
      ]
     },
     "execution_count": 114,
     "metadata": {},
     "output_type": "execute_result"
    }
   ],
   "source": [
    "np.add(a1, ones[0:3])"
   ]
  },
  {
   "cell_type": "code",
   "execution_count": 115,
   "id": "0ca529d0",
   "metadata": {},
   "outputs": [
    {
     "data": {
      "text/plain": [
       "array([1., 1., 1., 1., 1., 1.])"
      ]
     },
     "execution_count": 115,
     "metadata": {},
     "output_type": "execute_result"
    }
   ],
   "source": [
    "ones % 2"
   ]
  },
  {
   "cell_type": "code",
   "execution_count": 116,
   "id": "b4564017",
   "metadata": {},
   "outputs": [
    {
     "data": {
      "text/plain": [
       "array([0., 0., 0., 0., 0., 0.])"
      ]
     },
     "execution_count": 116,
     "metadata": {},
     "output_type": "execute_result"
    }
   ],
   "source": [
    "ones % 1"
   ]
  },
  {
   "cell_type": "code",
   "execution_count": 117,
   "id": "502af614",
   "metadata": {},
   "outputs": [
    {
     "data": {
      "text/plain": [
       "array([0., 0., 0., 0., 0., 0.])"
      ]
     },
     "execution_count": 117,
     "metadata": {},
     "output_type": "execute_result"
    }
   ],
   "source": [
    "np.mod(ones, 1)"
   ]
  },
  {
   "cell_type": "code",
   "execution_count": 119,
   "id": "af6402ce",
   "metadata": {},
   "outputs": [
    {
     "data": {
      "text/plain": [
       "array([ 2.71828183,  7.3890561 , 20.08553692])"
      ]
     },
     "execution_count": 119,
     "metadata": {},
     "output_type": "execute_result"
    }
   ],
   "source": [
    "np.exp(a1)"
   ]
  },
  {
   "cell_type": "code",
   "execution_count": 120,
   "id": "9f23d447",
   "metadata": {},
   "outputs": [
    {
     "data": {
      "text/plain": [
       "array([0.        , 0.30103   , 0.47712125])"
      ]
     },
     "execution_count": 120,
     "metadata": {},
     "output_type": "execute_result"
    }
   ],
   "source": [
    "np.log10(a1)"
   ]
  },
  {
   "cell_type": "code",
   "execution_count": 121,
   "id": "1cf16600",
   "metadata": {},
   "outputs": [],
   "source": [
    "# These were all the arithmetic operations which can be applied to the array"
   ]
  },
  {
   "cell_type": "markdown",
   "id": "ab8fcf02",
   "metadata": {},
   "source": [
    "### Aggregation"
   ]
  },
  {
   "cell_type": "code",
   "execution_count": 122,
   "id": "c053a25c",
   "metadata": {},
   "outputs": [],
   "source": [
    "# Aggregation is performing same operation on the number of things"
   ]
  },
  {
   "cell_type": "code",
   "execution_count": 123,
   "id": "68724f39",
   "metadata": {},
   "outputs": [],
   "source": [
    "listy_list = [1,2,3]"
   ]
  },
  {
   "cell_type": "code",
   "execution_count": 124,
   "id": "fab34758",
   "metadata": {},
   "outputs": [
    {
     "data": {
      "text/plain": [
       "list"
      ]
     },
     "execution_count": 124,
     "metadata": {},
     "output_type": "execute_result"
    }
   ],
   "source": [
    "type(listy_list)"
   ]
  },
  {
   "cell_type": "code",
   "execution_count": 125,
   "id": "de7710c4",
   "metadata": {},
   "outputs": [
    {
     "data": {
      "text/plain": [
       "6"
      ]
     },
     "execution_count": 125,
     "metadata": {},
     "output_type": "execute_result"
    }
   ],
   "source": [
    "sum(listy_list)"
   ]
  },
  {
   "cell_type": "code",
   "execution_count": 126,
   "id": "aa593fc8",
   "metadata": {},
   "outputs": [
    {
     "data": {
      "text/plain": [
       "array([1, 2, 3])"
      ]
     },
     "execution_count": 126,
     "metadata": {},
     "output_type": "execute_result"
    }
   ],
   "source": [
    "a1"
   ]
  },
  {
   "cell_type": "code",
   "execution_count": 127,
   "id": "e2d06598",
   "metadata": {},
   "outputs": [
    {
     "data": {
      "text/plain": [
       "6"
      ]
     },
     "execution_count": 127,
     "metadata": {},
     "output_type": "execute_result"
    }
   ],
   "source": [
    "sum(a1)"
   ]
  },
  {
   "cell_type": "code",
   "execution_count": 128,
   "id": "b523d985",
   "metadata": {},
   "outputs": [
    {
     "data": {
      "text/plain": [
       "6"
      ]
     },
     "execution_count": 128,
     "metadata": {},
     "output_type": "execute_result"
    }
   ],
   "source": [
    "np.sum(a1)"
   ]
  },
  {
   "cell_type": "code",
   "execution_count": 129,
   "id": "39c35ac7",
   "metadata": {},
   "outputs": [],
   "source": [
    "# we should use python's methods on the python data type \n",
    "# If we have datatype which is defined in the NumPy then numpy aggreagation methods should be used"
   ]
  },
  {
   "cell_type": "code",
   "execution_count": 130,
   "id": "e89e1147",
   "metadata": {},
   "outputs": [],
   "source": [
    "# we will create the massive array\n",
    "massive_array = np.random.random(100000)"
   ]
  },
  {
   "cell_type": "code",
   "execution_count": 131,
   "id": "61e637c8",
   "metadata": {},
   "outputs": [
    {
     "data": {
      "text/plain": [
       "100000"
      ]
     },
     "execution_count": 131,
     "metadata": {},
     "output_type": "execute_result"
    }
   ],
   "source": [
    "massive_array.size"
   ]
  },
  {
   "cell_type": "code",
   "execution_count": 134,
   "id": "c52defff",
   "metadata": {},
   "outputs": [
    {
     "data": {
      "text/plain": [
       "array([0.18993895, 0.55422759, 0.35213195, 0.1818924 , 0.78560176,\n",
       "       0.96548322, 0.23235366, 0.08356143, 0.60354842, 0.72899276])"
      ]
     },
     "execution_count": 134,
     "metadata": {},
     "output_type": "execute_result"
    }
   ],
   "source": [
    "massive_array[0:10]"
   ]
  },
  {
   "cell_type": "code",
   "execution_count": 135,
   "id": "c3637156",
   "metadata": {},
   "outputs": [],
   "source": [
    "# Now we will have the proof why we should be using the numpy array and not the other type of array while we are having to calculate the aggregation"
   ]
  },
  {
   "cell_type": "code",
   "execution_count": 136,
   "id": "6918a907",
   "metadata": {},
   "outputs": [
    {
     "name": "stdout",
     "output_type": "stream",
     "text": [
      "15.8 ms ± 231 µs per loop (mean ± std. dev. of 7 runs, 100 loops each)\n",
      "96.6 µs ± 3.25 µs per loop (mean ± std. dev. of 7 runs, 10,000 loops each)\n"
     ]
    }
   ],
   "source": [
    "%timeit sum(massive_array) # python's math function\n",
    "%timeit np.sum(massive_array) # numpy's np.sum() function"
   ]
  },
  {
   "cell_type": "code",
   "execution_count": 137,
   "id": "5d047385",
   "metadata": {},
   "outputs": [],
   "source": [
    "# Look here we have got the time which we required to calculate the sum and just look at the difference between time that has been spent between calculations that we have performed"
   ]
  },
  {
   "cell_type": "code",
   "execution_count": 138,
   "id": "ae2b80f5",
   "metadata": {},
   "outputs": [
    {
     "data": {
      "text/plain": [
       "array([[[1. ],\n",
       "        [2. ],\n",
       "        [3.3]],\n",
       "\n",
       "       [[4. ],\n",
       "        [5. ],\n",
       "        [6.5]]])"
      ]
     },
     "execution_count": 138,
     "metadata": {},
     "output_type": "execute_result"
    }
   ],
   "source": [
    "a2"
   ]
  },
  {
   "cell_type": "code",
   "execution_count": 139,
   "id": "592abe43",
   "metadata": {},
   "outputs": [
    {
     "data": {
      "text/plain": [
       "array([[[ 1,  2,  3],\n",
       "        [ 4,  5,  6],\n",
       "        [ 7,  8,  9]],\n",
       "\n",
       "       [[10, 11, 12],\n",
       "        [13, 14, 15],\n",
       "        [16, 17, 18]]])"
      ]
     },
     "execution_count": 139,
     "metadata": {},
     "output_type": "execute_result"
    }
   ],
   "source": [
    "a3"
   ]
  },
  {
   "cell_type": "code",
   "execution_count": 140,
   "id": "d9626cb3",
   "metadata": {},
   "outputs": [
    {
     "data": {
      "text/plain": [
       "9.5"
      ]
     },
     "execution_count": 140,
     "metadata": {},
     "output_type": "execute_result"
    }
   ],
   "source": [
    "np.mean(a3)"
   ]
  },
  {
   "cell_type": "code",
   "execution_count": 141,
   "id": "a13e846e",
   "metadata": {},
   "outputs": [
    {
     "data": {
      "text/plain": [
       "18"
      ]
     },
     "execution_count": 141,
     "metadata": {},
     "output_type": "execute_result"
    }
   ],
   "source": [
    "np.max(a3)"
   ]
  },
  {
   "cell_type": "code",
   "execution_count": 142,
   "id": "720e1389",
   "metadata": {},
   "outputs": [
    {
     "data": {
      "text/plain": [
       "1"
      ]
     },
     "execution_count": 142,
     "metadata": {},
     "output_type": "execute_result"
    }
   ],
   "source": [
    "np.min(a3)"
   ]
  },
  {
   "cell_type": "code",
   "execution_count": 148,
   "id": "61516d3f",
   "metadata": {},
   "outputs": [
    {
     "data": {
      "text/plain": [
       "array([[4.5, 4.5, 4.5],\n",
       "       [4.5, 4.5, 4.5],\n",
       "       [4.5, 4.5, 4.5]])"
      ]
     },
     "execution_count": 148,
     "metadata": {},
     "output_type": "execute_result"
    }
   ],
   "source": [
    "# Standard deviation is measure of how much the number is spread from the mean\n",
    "\n",
    "np.std(a3, axis=0)"
   ]
  },
  {
   "cell_type": "code",
   "execution_count": 149,
   "id": "7a5f2d33",
   "metadata": {},
   "outputs": [
    {
     "data": {
      "text/plain": [
       "array([[2.44948974, 2.44948974, 2.44948974],\n",
       "       [2.44948974, 2.44948974, 2.44948974]])"
      ]
     },
     "execution_count": 149,
     "metadata": {},
     "output_type": "execute_result"
    }
   ],
   "source": [
    "np.std(a3, axis=1)"
   ]
  },
  {
   "cell_type": "code",
   "execution_count": 150,
   "id": "d6772fcc",
   "metadata": {},
   "outputs": [],
   "source": [
    "# Variance is measure of the average degree to which each number is different to the main\n",
    "# Higher variace = Wider range of number\n",
    "# Lower variance = lower range of number"
   ]
  },
  {
   "cell_type": "code",
   "execution_count": 151,
   "id": "188f9b84",
   "metadata": {},
   "outputs": [
    {
     "data": {
      "text/plain": [
       "26.916666666666668"
      ]
     },
     "execution_count": 151,
     "metadata": {},
     "output_type": "execute_result"
    }
   ],
   "source": [
    "np.var(a3)"
   ]
  },
  {
   "cell_type": "code",
   "execution_count": 152,
   "id": "9efad9db",
   "metadata": {},
   "outputs": [
    {
     "data": {
      "text/plain": [
       "array([[6., 6., 6.],\n",
       "       [6., 6., 6.]])"
      ]
     },
     "execution_count": 152,
     "metadata": {},
     "output_type": "execute_result"
    }
   ],
   "source": [
    "np.var(a3, axis=1)"
   ]
  },
  {
   "cell_type": "markdown",
   "id": "057ab3f1",
   "metadata": {},
   "source": [
    "## Standard Deviation and variance"
   ]
  },
  {
   "cell_type": "code",
   "execution_count": 153,
   "id": "12bca90e",
   "metadata": {},
   "outputs": [],
   "source": [
    "# They are just measure of spread of data around the mean"
   ]
  },
  {
   "cell_type": "code",
   "execution_count": 155,
   "id": "7b362d02",
   "metadata": {},
   "outputs": [],
   "source": [
    "high_var_array = np.array([1,100,200,300,4000,5000])\n",
    "low_var_array = np.array([2,4,6,8,10, 12])"
   ]
  },
  {
   "cell_type": "code",
   "execution_count": 156,
   "id": "f7c83cbe",
   "metadata": {},
   "outputs": [
    {
     "data": {
      "text/plain": [
       "(4296133.472222221, 11.666666666666666)"
      ]
     },
     "execution_count": 156,
     "metadata": {},
     "output_type": "execute_result"
    }
   ],
   "source": [
    "np.var(high_var_array), np.var(low_var_array)"
   ]
  },
  {
   "cell_type": "code",
   "execution_count": 157,
   "id": "330b1062",
   "metadata": {},
   "outputs": [],
   "source": [
    "# variance is measure of how values are far from the mean\n",
    "# High variamce defined that the value are having larger range\n",
    "# low variance tells that the numbers are in the smaller range"
   ]
  },
  {
   "cell_type": "code",
   "execution_count": 158,
   "id": "03752f95",
   "metadata": {},
   "outputs": [
    {
     "data": {
      "text/plain": [
       "(3.415650255319866, 2072.711623024829)"
      ]
     },
     "execution_count": 158,
     "metadata": {},
     "output_type": "execute_result"
    }
   ],
   "source": [
    "np.std(low_var_array), np.std(high_var_array)"
   ]
  },
  {
   "cell_type": "code",
   "execution_count": 159,
   "id": "89c69d63",
   "metadata": {},
   "outputs": [
    {
     "data": {
      "text/plain": [
       "(1600.1666666666667, 7.0)"
      ]
     },
     "execution_count": 159,
     "metadata": {},
     "output_type": "execute_result"
    }
   ],
   "source": [
    "np.mean(high_var_array), np.mean(low_var_array)"
   ]
  },
  {
   "cell_type": "code",
   "execution_count": 160,
   "id": "eaeff230",
   "metadata": {},
   "outputs": [],
   "source": [
    "# standard deviation defines the average distance of any number being away from the mean"
   ]
  },
  {
   "cell_type": "markdown",
   "id": "49b8bd47",
   "metadata": {},
   "source": [
    "Variance:\n",
    "Concept: Variance is the average of the squared differences from the Mean. It measures how far each data point in the set is from the mean and then squares that difference to give more weight to larger differences. The variance is calculated by taking the average of these squared differences.\n",
    "Standard Deviation:\n",
    "Concept: Standard deviation is simply the square root of the variance. It provides a more interpretable measure of the spread of data because it is in the same units as the original data."
   ]
  },
  {
   "cell_type": "code",
   "execution_count": 161,
   "id": "2bed7ad2",
   "metadata": {
    "scrolled": true
   },
   "outputs": [
    {
     "data": {
      "image/png": "[encoded data removed]",
      "text/plain": [
       "<Figure size 640x480 with 1 Axes>"
      ]
     },
     "metadata": {},
     "output_type": "display_data"
    }
   ],
   "source": [
    "%matplotlib inline\n",
    "import matplotlib.pyplot as plt\n",
    "plt.hist(high_var_array)\n",
    "plt.show()"
   ]
  },
  {
   "cell_type": "code",
   "execution_count": 162,
   "id": "1f773323",
   "metadata": {},
   "outputs": [
    {
     "data": {
      "image/png": "[encoded data removed]",
      "text/plain": [
       "<Figure size 640x480 with 1 Axes>"
      ]
     },
     "metadata": {},
     "output_type": "display_data"
    }
   ],
   "source": [
    "plt.hist(low_var_array)\n",
    "plt.show()"
   ]
  },
  {
   "cell_type": "code",
   "execution_count": 163,
   "id": "cdf19eed",
   "metadata": {},
   "outputs": [],
   "source": [
    "# the spread of number can be analyzed in the low and high variance array"
   ]
  },
  {
   "cell_type": "markdown",
   "id": "e09a8ab1",
   "metadata": {},
   "source": [
    "## Change the shape of the numpy array"
   ]
  },
  {
   "cell_type": "code",
   "execution_count": 164,
   "id": "36e81fcf",
   "metadata": {},
   "outputs": [
    {
     "data": {
      "text/plain": [
       "array([[[1. ],\n",
       "        [2. ],\n",
       "        [3.3]],\n",
       "\n",
       "       [[4. ],\n",
       "        [5. ],\n",
       "        [6.5]]])"
      ]
     },
     "execution_count": 164,
     "metadata": {},
     "output_type": "execute_result"
    }
   ],
   "source": [
    "a2"
   ]
  },
  {
   "cell_type": "code",
   "execution_count": 165,
   "id": "b9346ee3",
   "metadata": {},
   "outputs": [
    {
     "data": {
      "text/plain": [
       "array([[[ 1,  2,  3],\n",
       "        [ 4,  5,  6],\n",
       "        [ 7,  8,  9]],\n",
       "\n",
       "       [[10, 11, 12],\n",
       "        [13, 14, 15],\n",
       "        [16, 17, 18]]])"
      ]
     },
     "execution_count": 165,
     "metadata": {},
     "output_type": "execute_result"
    }
   ],
   "source": [
    "a3"
   ]
  },
  {
   "cell_type": "code",
   "execution_count": 166,
   "id": "3f3e1df7",
   "metadata": {},
   "outputs": [
    {
     "data": {
      "text/plain": [
       "(2, 3, 3)"
      ]
     },
     "execution_count": 166,
     "metadata": {},
     "output_type": "execute_result"
    }
   ],
   "source": [
    "a3.shape"
   ]
  },
  {
   "cell_type": "code",
   "execution_count": 167,
   "id": "96e48387",
   "metadata": {},
   "outputs": [],
   "source": [
    "a2 = np.array([[1,2,3],\n",
    "              [4,5,6]])"
   ]
  },
  {
   "cell_type": "code",
   "execution_count": 168,
   "id": "3b0ddc84",
   "metadata": {},
   "outputs": [
    {
     "data": {
      "text/plain": [
       "((2, 3), (2, 3, 3))"
      ]
     },
     "execution_count": 168,
     "metadata": {},
     "output_type": "execute_result"
    }
   ],
   "source": [
    "a2.shape, a3.shape"
   ]
  },
  {
   "cell_type": "code",
   "execution_count": 170,
   "id": "078bee10",
   "metadata": {},
   "outputs": [],
   "source": [
    "# a2 * a3"
   ]
  },
  {
   "cell_type": "code",
   "execution_count": 172,
   "id": "eb73e23c",
   "metadata": {},
   "outputs": [],
   "source": [
    "# Above line of code will give us the error because those two arrays are not having equal dimensions"
   ]
  },
  {
   "cell_type": "code",
   "execution_count": 175,
   "id": "30ba4ae0",
   "metadata": {},
   "outputs": [],
   "source": [
    "a2_reshape = a2.reshape(2, 3, 1)"
   ]
  },
  {
   "cell_type": "code",
   "execution_count": 176,
   "id": "a1b87377",
   "metadata": {},
   "outputs": [
    {
     "data": {
      "text/plain": [
       "array([[[1],\n",
       "        [2],\n",
       "        [3]],\n",
       "\n",
       "       [[4],\n",
       "        [5],\n",
       "        [6]]])"
      ]
     },
     "execution_count": 176,
     "metadata": {},
     "output_type": "execute_result"
    }
   ],
   "source": [
    "a2_reshape"
   ]
  },
  {
   "cell_type": "code",
   "execution_count": 177,
   "id": "d769b3ec",
   "metadata": {},
   "outputs": [
    {
     "data": {
      "text/plain": [
       "array([[[  1,   2,   3],\n",
       "        [  8,  10,  12],\n",
       "        [ 21,  24,  27]],\n",
       "\n",
       "       [[ 40,  44,  48],\n",
       "        [ 65,  70,  75],\n",
       "        [ 96, 102, 108]]])"
      ]
     },
     "execution_count": 177,
     "metadata": {},
     "output_type": "execute_result"
    }
   ],
   "source": [
    "a2_reshape * a3"
   ]
  },
  {
   "cell_type": "code",
   "execution_count": 178,
   "id": "4e2941d6",
   "metadata": {},
   "outputs": [],
   "source": [
    "# After reshaping the array we are able to multiply the array as they have acceptable dimensions"
   ]
  },
  {
   "cell_type": "code",
   "execution_count": 179,
   "id": "4d696fa4",
   "metadata": {},
   "outputs": [],
   "source": [
    "# Transpose is nothing but the changing of the rows to columns and columns to rows"
   ]
  },
  {
   "cell_type": "code",
   "execution_count": 180,
   "id": "aaa22357",
   "metadata": {},
   "outputs": [],
   "source": [
    "a2_trans = np.transpose(a2)"
   ]
  },
  {
   "cell_type": "code",
   "execution_count": 182,
   "id": "9dfae3c7",
   "metadata": {},
   "outputs": [
    {
     "data": {
      "text/plain": [
       "((3, 2), (2, 3))"
      ]
     },
     "execution_count": 182,
     "metadata": {},
     "output_type": "execute_result"
    }
   ],
   "source": [
    "a2_trans.shape, a2.shape"
   ]
  },
  {
   "cell_type": "markdown",
   "id": "1b3ef869",
   "metadata": {},
   "source": [
    "## Dot Product"
   ]
  },
  {
   "cell_type": "code",
   "execution_count": 183,
   "id": "27637c77",
   "metadata": {},
   "outputs": [],
   "source": [
    "# Lets create two arrays "
   ]
  },
  {
   "cell_type": "code",
   "execution_count": 184,
   "id": "ca6f54be",
   "metadata": {},
   "outputs": [],
   "source": [
    "np.random.seed(0)\n",
    "arr1 = np.random.randint(10, size=(4, 3))\n",
    "arr2 = np.random.randint(10, size=(4, 3))"
   ]
  },
  {
   "cell_type": "code",
   "execution_count": 185,
   "id": "1e2e019d",
   "metadata": {},
   "outputs": [
    {
     "data": {
      "text/plain": [
       "(array([[5, 0, 3],\n",
       "        [3, 7, 9],\n",
       "        [3, 5, 2],\n",
       "        [4, 7, 6]]),\n",
       " array([[8, 8, 1],\n",
       "        [6, 7, 7],\n",
       "        [8, 1, 5],\n",
       "        [9, 8, 9]]))"
      ]
     },
     "execution_count": 185,
     "metadata": {},
     "output_type": "execute_result"
    }
   ],
   "source": [
    "arr1, arr2"
   ]
  },
  {
   "cell_type": "code",
   "execution_count": 186,
   "id": "6bf6008a",
   "metadata": {},
   "outputs": [
    {
     "data": {
      "text/plain": [
       "array([[40,  0,  3],\n",
       "       [18, 49, 63],\n",
       "       [24,  5, 10],\n",
       "       [36, 56, 54]])"
      ]
     },
     "execution_count": 186,
     "metadata": {},
     "output_type": "execute_result"
    }
   ],
   "source": [
    "np.multiply(arr1, arr2)"
   ]
  },
  {
   "cell_type": "code",
   "execution_count": 187,
   "id": "3c83d556",
   "metadata": {},
   "outputs": [],
   "source": [
    "# Here we have got the product of each of the number with the respective number having same index in the other array and the array that has been formed at the end is made has same size as the rest elements that are formed by the array"
   ]
  },
  {
   "cell_type": "code",
   "execution_count": 188,
   "id": "a75dfba6",
   "metadata": {},
   "outputs": [],
   "source": [
    "# But if we want to make multiplication of the matrix in the real world then it has some rules"
   ]
  },
  {
   "cell_type": "markdown",
   "id": "e0a4f933",
   "metadata": {},
   "source": [
    "Matrix multiplication is valid only when the number of columns in the first matrix is equal to the number of rows in the second matrix, and each element in the resulting matrix is obtained by multiplying corresponding elements from a row of the first matrix and a column of the second matrix, with the overall result being a matrix of dimensions equal to the number of rows in the first matrix by the number of columns in the second matrix."
   ]
  },
  {
   "cell_type": "code",
   "execution_count": 190,
   "id": "df430961",
   "metadata": {},
   "outputs": [],
   "source": [
    "# np.dot(arr1, arr2)\n",
    "# ValueError: shapes (4,3) and (4,3) not aligned: 3 (dim 1) != 4 (dim 0)"
   ]
  },
  {
   "cell_type": "code",
   "execution_count": 191,
   "id": "0e67d0a8",
   "metadata": {},
   "outputs": [],
   "source": [
    "# We have to have the two matrices such that the elements in the matrices has to be in specific order"
   ]
  },
  {
   "cell_type": "code",
   "execution_count": 192,
   "id": "5d0caab0",
   "metadata": {},
   "outputs": [],
   "source": [
    "arr2_trans = np.transpose(arr2)"
   ]
  },
  {
   "cell_type": "code",
   "execution_count": 195,
   "id": "7092026f",
   "metadata": {},
   "outputs": [
    {
     "data": {
      "text/plain": [
       "((3, 4), (4, 3))"
      ]
     },
     "execution_count": 195,
     "metadata": {},
     "output_type": "execute_result"
    }
   ],
   "source": [
    "arr2_trans.shape, arr1.shape"
   ]
  },
  {
   "cell_type": "code",
   "execution_count": 198,
   "id": "994b05c2",
   "metadata": {},
   "outputs": [],
   "source": [
    "# Now as the shape of both the matrices are what we need to get the dot product we can get the dot product ASAP\n",
    "arr1_mul_arr2 = np.dot(arr1, arr2_trans)"
   ]
  },
  {
   "cell_type": "code",
   "execution_count": 199,
   "id": "6bfb2607",
   "metadata": {},
   "outputs": [
    {
     "data": {
      "text/plain": [
       "array([[ 43,  51,  55,  72],\n",
       "       [ 89, 130,  76, 164],\n",
       "       [ 66,  67,  39,  85],\n",
       "       [ 94, 115,  69, 146]])"
      ]
     },
     "execution_count": 199,
     "metadata": {},
     "output_type": "execute_result"
    }
   ],
   "source": [
    "arr1_mul_arr2"
   ]
  },
  {
   "cell_type": "code",
   "execution_count": null,
   "id": "b5e427d6",
   "metadata": {},
   "outputs": [],
   "source": []
  },
  {
   "cell_type": "code",
   "execution_count": null,
   "id": "c9a82c7a",
   "metadata": {},
   "outputs": [],
   "source": []
  }
 ],
 "metadata": {
  "kernelspec": {
   "display_name": "Python 3 (ipykernel)",
   "language": "python",
   "name": "python3"
  },
  "language_info": {
   "codemirror_mode": {
    "name": "ipython",
    "version": 3
   },
   "file_extension": ".py",
   "mimetype": "text/x-python",
   "name": "python",
   "nbconvert_exporter": "python",
   "pygments_lexer": "ipython3",
   "version": "3.10.2"
  }
 },
 "nbformat": 4,
 "nbformat_minor": 5
}
