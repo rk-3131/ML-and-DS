{
 "cells": [
  {
   "cell_type": "code",
   "execution_count": 4,
   "id": "46158dcd",
   "metadata": {},
   "outputs": [],
   "source": [
    "import numpy as np"
   ]
  },
  {
   "cell_type": "markdown",
   "id": "037f69a2",
   "metadata": {},
   "source": [
    "## Datatypes and attributes"
   ]
  },
  {
   "cell_type": "code",
   "execution_count": 5,
   "id": "0e5e78c9",
   "metadata": {},
   "outputs": [],
   "source": [
    "# numpy can have any dimensional array i.e ndarray"
   ]
  },
  {
   "cell_type": "code",
   "execution_count": 6,
   "id": "7b848eb5",
   "metadata": {},
   "outputs": [],
   "source": [
    "a1 = np.array([1,2,3,4,5,6])"
   ]
  },
  {
   "cell_type": "code",
   "execution_count": 7,
   "id": "efa08eca",
   "metadata": {},
   "outputs": [
    {
     "data": {
      "text/plain": [
       "array([1, 2, 3, 4, 5, 6])"
      ]
     },
     "execution_count": 7,
     "metadata": {},
     "output_type": "execute_result"
    }
   ],
   "source": [
    "a1"
   ]
  },
  {
   "cell_type": "code",
   "execution_count": 8,
   "id": "f7e00af5",
   "metadata": {},
   "outputs": [
    {
     "data": {
      "text/plain": [
       "numpy.ndarray"
      ]
     },
     "execution_count": 8,
     "metadata": {},
     "output_type": "execute_result"
    }
   ],
   "source": [
    "type(a1)"
   ]
  },
  {
   "cell_type": "code",
   "execution_count": 10,
   "id": "249d5381",
   "metadata": {},
   "outputs": [],
   "source": [
    "a2 = np.array([[1,2,3],\n",
    "             [4,5,6],\n",
    "              [4.5,6.2,9.5]])"
   ]
  },
  {
   "cell_type": "code",
   "execution_count": 11,
   "id": "5963ecdb",
   "metadata": {},
   "outputs": [
    {
     "data": {
      "text/plain": [
       "array([[1. , 2. , 3. ],\n",
       "       [4. , 5. , 6. ],\n",
       "       [4.5, 6.2, 9.5]])"
      ]
     },
     "execution_count": 11,
     "metadata": {},
     "output_type": "execute_result"
    }
   ],
   "source": [
    "a2"
   ]
  },
  {
   "cell_type": "code",
   "execution_count": 13,
   "id": "3b22ebeb",
   "metadata": {},
   "outputs": [],
   "source": [
    "# we can even type and create more number dimensional array also\n",
    "a3 = np.array([[[1,2,3],\n",
    "               [4,5,6],\n",
    "              [7,8,9]],\n",
    "              [[10,11,12],\n",
    "               [13,14,15],\n",
    "              [16,17,18]]])"
   ]
  },
  {
   "cell_type": "code",
   "execution_count": 14,
   "id": "f51c7b4e",
   "metadata": {},
   "outputs": [
    {
     "data": {
      "text/plain": [
       "array([[[ 1,  2,  3],\n",
       "        [ 4,  5,  6],\n",
       "        [ 7,  8,  9]],\n",
       "\n",
       "       [[10, 11, 12],\n",
       "        [13, 14, 15],\n",
       "        [16, 17, 18]]])"
      ]
     },
     "execution_count": 14,
     "metadata": {},
     "output_type": "execute_result"
    }
   ],
   "source": [
    "a3"
   ]
  },
  {
   "cell_type": "code",
   "execution_count": 15,
   "id": "74dd8fc8",
   "metadata": {},
   "outputs": [],
   "source": [
    "# we can get the shape of the array based on the data that we will be getting"
   ]
  },
  {
   "cell_type": "code",
   "execution_count": 19,
   "id": "f0ec50dc",
   "metadata": {},
   "outputs": [
    {
     "data": {
      "text/plain": [
       "(6,)"
      ]
     },
     "execution_count": 19,
     "metadata": {},
     "output_type": "execute_result"
    }
   ],
   "source": [
    "a1.shape\n",
    "# here it is 6 because there are 6 numbers in the array"
   ]
  },
  {
   "cell_type": "code",
   "execution_count": 20,
   "id": "33f3064a",
   "metadata": {},
   "outputs": [
    {
     "data": {
      "text/plain": [
       "(3, 3)"
      ]
     },
     "execution_count": 20,
     "metadata": {},
     "output_type": "execute_result"
    }
   ],
   "source": [
    "a2.shape"
   ]
  },
  {
   "cell_type": "code",
   "execution_count": 21,
   "id": "35fd69af",
   "metadata": {},
   "outputs": [
    {
     "data": {
      "text/plain": [
       "(2, 3, 3)"
      ]
     },
     "execution_count": 21,
     "metadata": {},
     "output_type": "execute_result"
    }
   ],
   "source": [
    "a3.shape"
   ]
  },
  {
   "cell_type": "code",
   "execution_count": 22,
   "id": "4d1d3c91",
   "metadata": {},
   "outputs": [
    {
     "data": {
      "text/plain": [
       "(1, 2, 3)"
      ]
     },
     "execution_count": 22,
     "metadata": {},
     "output_type": "execute_result"
    }
   ],
   "source": [
    "# we can even get and see how many dimensional the array is using ndim\n",
    "a1.ndim, a2.ndim, a3.ndim"
   ]
  },
  {
   "cell_type": "code",
   "execution_count": 23,
   "id": "f261eb71",
   "metadata": {},
   "outputs": [
    {
     "data": {
      "text/plain": [
       "(dtype('int32'), dtype('float64'), dtype('int32'))"
      ]
     },
     "execution_count": 23,
     "metadata": {},
     "output_type": "execute_result"
    }
   ],
   "source": [
    "# we can even get the datatype of all the elements into the arrays\n",
    "a1.dtype, a2.dtype, a3.dtype"
   ]
  },
  {
   "cell_type": "code",
   "execution_count": 24,
   "id": "f2d029fe",
   "metadata": {},
   "outputs": [
    {
     "data": {
      "text/plain": [
       "(6, 9, 18)"
      ]
     },
     "execution_count": 24,
     "metadata": {},
     "output_type": "execute_result"
    }
   ],
   "source": [
    "# we can also get the number of elements in the array\n",
    "a1.size, a2.size, a3.size"
   ]
  },
  {
   "cell_type": "code",
   "execution_count": 25,
   "id": "2fcd0cfc",
   "metadata": {},
   "outputs": [
    {
     "data": {
      "text/plain": [
       "(numpy.ndarray, numpy.ndarray, numpy.ndarray)"
      ]
     },
     "execution_count": 25,
     "metadata": {},
     "output_type": "execute_result"
    }
   ],
   "source": [
    "# we can get what type of datatype they are here all of them are ndarray\n",
    "type(a1), type(a2), type(a3)"
   ]
  },
  {
   "cell_type": "code",
   "execution_count": 26,
   "id": "0b2b9407",
   "metadata": {},
   "outputs": [],
   "source": [
    "# Create a DataFrame from the numpy array"
   ]
  },
  {
   "cell_type": "code",
   "execution_count": 27,
   "id": "751061bc",
   "metadata": {},
   "outputs": [],
   "source": [
    "import pandas as pd"
   ]
  },
  {
   "cell_type": "code",
   "execution_count": 28,
   "id": "a963bedf",
   "metadata": {},
   "outputs": [],
   "source": [
    "dataframe = pd.DataFrame(a1)"
   ]
  },
  {
   "cell_type": "code",
   "execution_count": 29,
   "id": "2f59203e",
   "metadata": {},
   "outputs": [
    {
     "data": {
      "text/html": [
       "<div>\n",
       "<style scoped>\n",
       "    .dataframe tbody tr th:only-of-type {\n",
       "        vertical-align: middle;\n",
       "    }\n",
       "\n",
       "    .dataframe tbody tr th {\n",
       "        vertical-align: top;\n",
       "    }\n",
       "\n",
       "    .dataframe thead th {\n",
       "        text-align: right;\n",
       "    }\n",
       "</style>\n",
       "<table border=\"1\" class=\"dataframe\">\n",
       "  <thead>\n",
       "    <tr style=\"text-align: right;\">\n",
       "      <th></th>\n",
       "      <th>0</th>\n",
       "    </tr>\n",
       "  </thead>\n",
       "  <tbody>\n",
       "    <tr>\n",
       "      <th>0</th>\n",
       "      <td>1</td>\n",
       "    </tr>\n",
       "    <tr>\n",
       "      <th>1</th>\n",
       "      <td>2</td>\n",
       "    </tr>\n",
       "    <tr>\n",
       "      <th>2</th>\n",
       "      <td>3</td>\n",
       "    </tr>\n",
       "    <tr>\n",
       "      <th>3</th>\n",
       "      <td>4</td>\n",
       "    </tr>\n",
       "    <tr>\n",
       "      <th>4</th>\n",
       "      <td>5</td>\n",
       "    </tr>\n",
       "    <tr>\n",
       "      <th>5</th>\n",
       "      <td>6</td>\n",
       "    </tr>\n",
       "  </tbody>\n",
       "</table>\n",
       "</div>"
      ],
      "text/plain": [
       "   0\n",
       "0  1\n",
       "1  2\n",
       "2  3\n",
       "3  4\n",
       "4  5\n",
       "5  6"
      ]
     },
     "execution_count": 29,
     "metadata": {},
     "output_type": "execute_result"
    }
   ],
   "source": [
    "dataframe"
   ]
  },
  {
   "cell_type": "code",
   "execution_count": 30,
   "id": "bce09804",
   "metadata": {},
   "outputs": [],
   "source": [
    "dataframe2 = pd.DataFrame(a2)"
   ]
  },
  {
   "cell_type": "code",
   "execution_count": 31,
   "id": "94c58a75",
   "metadata": {},
   "outputs": [
    {
     "data": {
      "text/html": [
       "<div>\n",
       "<style scoped>\n",
       "    .dataframe tbody tr th:only-of-type {\n",
       "        vertical-align: middle;\n",
       "    }\n",
       "\n",
       "    .dataframe tbody tr th {\n",
       "        vertical-align: top;\n",
       "    }\n",
       "\n",
       "    .dataframe thead th {\n",
       "        text-align: right;\n",
       "    }\n",
       "</style>\n",
       "<table border=\"1\" class=\"dataframe\">\n",
       "  <thead>\n",
       "    <tr style=\"text-align: right;\">\n",
       "      <th></th>\n",
       "      <th>0</th>\n",
       "      <th>1</th>\n",
       "      <th>2</th>\n",
       "    </tr>\n",
       "  </thead>\n",
       "  <tbody>\n",
       "    <tr>\n",
       "      <th>0</th>\n",
       "      <td>1.0</td>\n",
       "      <td>2.0</td>\n",
       "      <td>3.0</td>\n",
       "    </tr>\n",
       "    <tr>\n",
       "      <th>1</th>\n",
       "      <td>4.0</td>\n",
       "      <td>5.0</td>\n",
       "      <td>6.0</td>\n",
       "    </tr>\n",
       "    <tr>\n",
       "      <th>2</th>\n",
       "      <td>4.5</td>\n",
       "      <td>6.2</td>\n",
       "      <td>9.5</td>\n",
       "    </tr>\n",
       "  </tbody>\n",
       "</table>\n",
       "</div>"
      ],
      "text/plain": [
       "     0    1    2\n",
       "0  1.0  2.0  3.0\n",
       "1  4.0  5.0  6.0\n",
       "2  4.5  6.2  9.5"
      ]
     },
     "execution_count": 31,
     "metadata": {},
     "output_type": "execute_result"
    }
   ],
   "source": [
    "dataframe2"
   ]
  },
  {
   "cell_type": "code",
   "execution_count": 33,
   "id": "623d3a4a",
   "metadata": {},
   "outputs": [],
   "source": [
    "# dataframe3 = pd.DataFrame(a3)\n",
    "# It will give us the error as pandas dataframe must have at most 2d array as input"
   ]
  },
  {
   "cell_type": "markdown",
   "id": "91d4669c",
   "metadata": {},
   "source": [
    "## Creating Numpy array"
   ]
  },
  {
   "cell_type": "code",
   "execution_count": 34,
   "id": "7824135c",
   "metadata": {},
   "outputs": [],
   "source": [
    "sample_array = np.array([1,2,3,4,5,6,7,8,9])"
   ]
  },
  {
   "cell_type": "code",
   "execution_count": 35,
   "id": "8f828302",
   "metadata": {},
   "outputs": [
    {
     "data": {
      "text/plain": [
       "array([1, 2, 3, 4, 5, 6, 7, 8, 9])"
      ]
     },
     "execution_count": 35,
     "metadata": {},
     "output_type": "execute_result"
    }
   ],
   "source": [
    "sample_array"
   ]
  },
  {
   "cell_type": "code",
   "execution_count": 36,
   "id": "f392c47a",
   "metadata": {},
   "outputs": [],
   "source": [
    "# What if we want to create the array which will have all the values defined for us"
   ]
  },
  {
   "cell_type": "code",
   "execution_count": 37,
   "id": "74ef094d",
   "metadata": {},
   "outputs": [],
   "source": [
    "ones_array = np.ones((2,3))\n",
    "# Signature: np.ones(shape, dtype=None, order='C', *, like=None)\n",
    "# Docstring:\n",
    "# Return a new array of given shape and type, filled with ones."
   ]
  },
  {
   "cell_type": "code",
   "execution_count": 38,
   "id": "014030f3",
   "metadata": {},
   "outputs": [
    {
     "data": {
      "text/plain": [
       "array([[1., 1., 1.],\n",
       "       [1., 1., 1.]])"
      ]
     },
     "execution_count": 38,
     "metadata": {},
     "output_type": "execute_result"
    }
   ],
   "source": [
    "ones_array"
   ]
  },
  {
   "cell_type": "code",
   "execution_count": 39,
   "id": "3ba09a5e",
   "metadata": {},
   "outputs": [
    {
     "data": {
      "text/plain": [
       "dtype('float64')"
      ]
     },
     "execution_count": 39,
     "metadata": {},
     "output_type": "execute_result"
    }
   ],
   "source": [
    "ones_array.dtype"
   ]
  },
  {
   "cell_type": "code",
   "execution_count": 40,
   "id": "a3d89967",
   "metadata": {},
   "outputs": [
    {
     "data": {
      "text/plain": [
       "numpy.ndarray"
      ]
     },
     "execution_count": 40,
     "metadata": {},
     "output_type": "execute_result"
    }
   ],
   "source": [
    "type(ones_array)"
   ]
  },
  {
   "cell_type": "code",
   "execution_count": 41,
   "id": "fe3b707d",
   "metadata": {},
   "outputs": [],
   "source": [
    "zeros_array = np.zeros((2,3))"
   ]
  },
  {
   "cell_type": "code",
   "execution_count": 42,
   "id": "bf41e6d3",
   "metadata": {},
   "outputs": [
    {
     "data": {
      "text/plain": [
       "array([[0., 0., 0.],\n",
       "       [0., 0., 0.]])"
      ]
     },
     "execution_count": 42,
     "metadata": {},
     "output_type": "execute_result"
    }
   ],
   "source": [
    "zeros_array"
   ]
  },
  {
   "cell_type": "code",
   "execution_count": 45,
   "id": "7d00b557",
   "metadata": {},
   "outputs": [],
   "source": [
    "# np.arange(start, stop, step)\n",
    "# Here the start is inclusive, stop is exclusive and step is how many number the value should inceament as they are fiiled in the proccess\n",
    "range_array = np.arange(1, 11, 1)"
   ]
  },
  {
   "cell_type": "code",
   "execution_count": 46,
   "id": "ee41ea0c",
   "metadata": {},
   "outputs": [
    {
     "data": {
      "text/plain": [
       "array([ 1,  2,  3,  4,  5,  6,  7,  8,  9, 10])"
      ]
     },
     "execution_count": 46,
     "metadata": {},
     "output_type": "execute_result"
    }
   ],
   "source": [
    "range_array"
   ]
  },
  {
   "cell_type": "code",
   "execution_count": 49,
   "id": "f3838949",
   "metadata": {},
   "outputs": [],
   "source": [
    "# What if we want to have the numbers in the array which will be generated by the random numbers in the array\n",
    "# Here the random.randint will take three arguements low which will be the number from where the generation of random numbers will start to get\n",
    "# Then there will be a number high which will be used for the purpose of getting the upper bound of the number where we wish to get the numbers to end\n",
    "# And then there is the parameter size which will be used for the purpose of having the numbers such that these will be used to determine the size of the array\n",
    "random_array = np.random.randint(0, 15, size = (3,3))"
   ]
  },
  {
   "cell_type": "code",
   "execution_count": 48,
   "id": "d574b347",
   "metadata": {},
   "outputs": [
    {
     "data": {
      "text/plain": [
       "array([[14,  0,  4],\n",
       "       [ 0,  3,  0],\n",
       "       [13,  3, 11]])"
      ]
     },
     "execution_count": 48,
     "metadata": {},
     "output_type": "execute_result"
    }
   ],
   "source": [
    "random_array"
   ]
  },
  {
   "cell_type": "code",
   "execution_count": 54,
   "id": "10b58988",
   "metadata": {},
   "outputs": [],
   "source": [
    "random_list = np.random.randint(0,21, size = 15)\n",
    "# here we have given the size in the form of numbers hence it will create the list which will be one dimensional"
   ]
  },
  {
   "cell_type": "code",
   "execution_count": 55,
   "id": "e264a4bb",
   "metadata": {},
   "outputs": [
    {
     "data": {
      "text/plain": [
       "array([11,  7, 15,  3, 13, 13, 14, 19, 16, 20,  0, 10, 10,  7, 19])"
      ]
     },
     "execution_count": 55,
     "metadata": {},
     "output_type": "execute_result"
    }
   ],
   "source": [
    "random_list"
   ]
  },
  {
   "cell_type": "code",
   "execution_count": 58,
   "id": "2419cf7b",
   "metadata": {},
   "outputs": [],
   "source": [
    "# random.random will get the input as size and then create the numbers which will be in the interval 0 and 1\n",
    "random_array2 = np.random.random((5,3))"
   ]
  },
  {
   "cell_type": "code",
   "execution_count": 59,
   "id": "51d95c01",
   "metadata": {},
   "outputs": [
    {
     "data": {
      "text/plain": [
       "array([[0.31151088, 0.79718252, 0.4885638 ],\n",
       "       [0.84156323, 0.40339096, 0.68770484],\n",
       "       [0.29477262, 0.68630509, 0.79114108],\n",
       "       [0.3782815 , 0.75394433, 0.6014657 ],\n",
       "       [0.98438347, 0.55859445, 0.82026242]])"
      ]
     },
     "execution_count": 59,
     "metadata": {},
     "output_type": "execute_result"
    }
   ],
   "source": [
    "random_array2"
   ]
  },
  {
   "cell_type": "code",
   "execution_count": 62,
   "id": "ccedb911",
   "metadata": {},
   "outputs": [],
   "source": [
    "random_array3 = np.random.rand(5,3)\n",
    "# This is also used to get the random numbers in the numpy array"
   ]
  },
  {
   "cell_type": "code",
   "execution_count": 63,
   "id": "253e944a",
   "metadata": {},
   "outputs": [
    {
     "data": {
      "text/plain": [
       "array([[0.48557978, 0.32342889, 0.08826322],\n",
       "       [0.95376776, 0.99862399, 0.73481492],\n",
       "       [0.24530045, 0.54207459, 0.4817443 ],\n",
       "       [0.1294141 , 0.20230708, 0.49568099],\n",
       "       [0.92254917, 0.43663159, 0.04430931]])"
      ]
     },
     "execution_count": 63,
     "metadata": {},
     "output_type": "execute_result"
    }
   ],
   "source": [
    "random_array3"
   ]
  },
  {
   "cell_type": "code",
   "execution_count": 64,
   "id": "8e374755",
   "metadata": {},
   "outputs": [],
   "source": [
    "# These numbers are generated by using the numpy seed"
   ]
  },
  {
   "cell_type": "markdown",
   "id": "d95e11bd",
   "metadata": {},
   "source": [
    "## Random Seed"
   ]
  },
  {
   "cell_type": "code",
   "execution_count": 66,
   "id": "ebf38dd3",
   "metadata": {},
   "outputs": [],
   "source": [
    "# The random numbers are not actually random but they are pseudo random numbers\n",
    "# They are generated using random seed"
   ]
  },
  {
   "cell_type": "code",
   "execution_count": 67,
   "id": "5e5c9a11",
   "metadata": {},
   "outputs": [],
   "source": [
    "random_array4 = np.random.randint(10, size=(5,3))"
   ]
  },
  {
   "cell_type": "code",
   "execution_count": 68,
   "id": "13d95458",
   "metadata": {},
   "outputs": [
    {
     "data": {
      "text/plain": [
       "array([[4, 1, 1],\n",
       "       [2, 3, 1],\n",
       "       [2, 6, 1],\n",
       "       [3, 5, 9],\n",
       "       [0, 4, 3]])"
      ]
     },
     "execution_count": 68,
     "metadata": {},
     "output_type": "execute_result"
    }
   ],
   "source": [
    "random_array4"
   ]
  },
  {
   "cell_type": "code",
   "execution_count": 69,
   "id": "7db4f417",
   "metadata": {},
   "outputs": [],
   "source": [
    "# here if we refresh the tab then we will be able to see that the array will have the differnt random numbers every time we make a refresh\n",
    "# But what if we want to share our code then will it be possible for other collegue of ours to get the exact random numbers so that it will be easy to reproduce the experiment that we have created"
   ]
  },
  {
   "cell_type": "code",
   "execution_count": 73,
   "id": "68aaef7b",
   "metadata": {},
   "outputs": [
    {
     "data": {
      "text/plain": [
       "array([[ 5,  6,  7],\n",
       "       [ 8,  9,  6],\n",
       "       [ 8, 13,  4]])"
      ]
     },
     "execution_count": 73,
     "metadata": {},
     "output_type": "execute_result"
    }
   ],
   "source": [
    "np.random.seed(78)\n",
    "random_array5 = np.random.randint(15, size = (3,3))\n",
    "random_array5\n",
    "# here we have created and enabled the random seed number 78 here\n",
    "# Hence it will generate the exact copy of the numbers every time\n",
    "# Hence it is called as the random numbers that are generated by the random function are"
   ]
  },
  {
   "cell_type": "code",
   "execution_count": 74,
   "id": "be15d487",
   "metadata": {},
   "outputs": [],
   "source": [
    "np.random.seed(101)\n",
    "random_array6 = np.random.random((3,3))"
   ]
  },
  {
   "cell_type": "code",
   "execution_count": 77,
   "id": "a30d3b5a",
   "metadata": {},
   "outputs": [
    {
     "data": {
      "text/plain": [
       "array([[0.51639863, 0.57066759, 0.02847423],\n",
       "       [0.17152166, 0.68527698, 0.83389686],\n",
       "       [0.30696622, 0.89361308, 0.72154386]])"
      ]
     },
     "execution_count": 77,
     "metadata": {},
     "output_type": "execute_result"
    }
   ],
   "source": [
    "random_array6"
   ]
  },
  {
   "cell_type": "code",
   "execution_count": 78,
   "id": "956373a7",
   "metadata": {},
   "outputs": [],
   "source": [
    "# Look above values also didn't change"
   ]
  },
  {
   "cell_type": "markdown",
   "id": "a2098ce1",
   "metadata": {},
   "source": [
    "## Viewing arrays and metrices"
   ]
  },
  {
   "cell_type": "code",
   "execution_count": 79,
   "id": "ce68f746",
   "metadata": {},
   "outputs": [],
   "source": [
    "# Now we have lot of array and hence we might need to get the unique values in the array"
   ]
  },
  {
   "cell_type": "code",
   "execution_count": 80,
   "id": "aa860587",
   "metadata": {},
   "outputs": [],
   "source": [
    "unique_in_5 = np.unique(random_array5)"
   ]
  },
  {
   "cell_type": "code",
   "execution_count": 81,
   "id": "45f3ca5d",
   "metadata": {},
   "outputs": [
    {
     "data": {
      "text/plain": [
       "array([ 4,  5,  6,  7,  8,  9, 13])"
      ]
     },
     "execution_count": 81,
     "metadata": {},
     "output_type": "execute_result"
    }
   ],
   "source": [
    "unique_in_5"
   ]
  },
  {
   "cell_type": "code",
   "execution_count": 82,
   "id": "ddfc995a",
   "metadata": {},
   "outputs": [],
   "source": [
    "# Hence we have get the unique values in the array\n",
    "# It can be used and applied to any dimensional array"
   ]
  },
  {
   "cell_type": "code",
   "execution_count": 83,
   "id": "ea90184e",
   "metadata": {},
   "outputs": [],
   "source": [
    "# To acces the elements of the array we can make use of the square bracket to get the elements at that index\n",
    "# Depending on the dimension of the array this will give us either single element or it can also give us the another array of one dimension less"
   ]
  },
  {
   "cell_type": "code",
   "execution_count": 84,
   "id": "80fb9dcd",
   "metadata": {},
   "outputs": [
    {
     "data": {
      "text/plain": [
       "1"
      ]
     },
     "execution_count": 84,
     "metadata": {},
     "output_type": "execute_result"
    }
   ],
   "source": [
    "a1[0]"
   ]
  },
  {
   "cell_type": "code",
   "execution_count": 85,
   "id": "9fbf00ae",
   "metadata": {},
   "outputs": [
    {
     "data": {
      "text/plain": [
       "array([1., 2., 3.])"
      ]
     },
     "execution_count": 85,
     "metadata": {},
     "output_type": "execute_result"
    }
   ],
   "source": [
    "a2[0]"
   ]
  },
  {
   "cell_type": "code",
   "execution_count": 86,
   "id": "2a0c5f17",
   "metadata": {},
   "outputs": [
    {
     "data": {
      "text/plain": [
       "array([[1, 2, 3],\n",
       "       [4, 5, 6],\n",
       "       [7, 8, 9]])"
      ]
     },
     "execution_count": 86,
     "metadata": {},
     "output_type": "execute_result"
    }
   ],
   "source": [
    "a3[0]"
   ]
  },
  {
   "cell_type": "code",
   "execution_count": 87,
   "id": "75da8709",
   "metadata": {},
   "outputs": [],
   "source": [
    "# Look what we got as first element of the array it was either single element or whole array also"
   ]
  },
  {
   "cell_type": "code",
   "execution_count": 88,
   "id": "84ec8658",
   "metadata": {},
   "outputs": [],
   "source": [
    "# We can make use of the slicing operator in the indexing function also"
   ]
  },
  {
   "cell_type": "code",
   "execution_count": 89,
   "id": "79e9bfd8",
   "metadata": {},
   "outputs": [
    {
     "data": {
      "text/plain": [
       "array([3, 4, 5])"
      ]
     },
     "execution_count": 89,
     "metadata": {},
     "output_type": "execute_result"
    }
   ],
   "source": [
    "a1[2:5]"
   ]
  },
  {
   "cell_type": "code",
   "execution_count": 92,
   "id": "50c54181",
   "metadata": {},
   "outputs": [
    {
     "data": {
      "text/plain": [
       "array([[[ 1,  2,  3],\n",
       "        [ 4,  5,  6],\n",
       "        [ 7,  8,  9]],\n",
       "\n",
       "       [[10, 11, 12],\n",
       "        [13, 14, 15],\n",
       "        [16, 17, 18]]])"
      ]
     },
     "execution_count": 92,
     "metadata": {},
     "output_type": "execute_result"
    }
   ],
   "source": [
    "a3"
   ]
  },
  {
   "cell_type": "code",
   "execution_count": 93,
   "id": "dfb1b03c",
   "metadata": {},
   "outputs": [
    {
     "data": {
      "text/plain": [
       "array([[[ 1,  2],\n",
       "        [ 4,  5]],\n",
       "\n",
       "       [[10, 11],\n",
       "        [13, 14]]])"
      ]
     },
     "execution_count": 93,
     "metadata": {},
     "output_type": "execute_result"
    }
   ],
   "source": [
    "a3[:2, :2, :2]"
   ]
  },
  {
   "cell_type": "code",
   "execution_count": null,
   "id": "349ab111",
   "metadata": {},
   "outputs": [],
   "source": []
  }
 ],
 "metadata": {
  "kernelspec": {
   "display_name": "Python 3 (ipykernel)",
   "language": "python",
   "name": "python3"
  },
  "language_info": {
   "codemirror_mode": {
    "name": "ipython",
    "version": 3
   },
   "file_extension": ".py",
   "mimetype": "text/x-python",
   "name": "python",
   "nbconvert_exporter": "python",
   "pygments_lexer": "ipython3",
   "version": "3.10.2"
  }
 },
 "nbformat": 4,
 "nbformat_minor": 5
}
